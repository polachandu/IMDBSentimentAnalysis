{
 "cells": [
  {
   "cell_type": "code",
   "execution_count": 1,
   "id": "21033c44",
   "metadata": {
    "_cell_guid": "b1076dfc-b9ad-4769-8c92-a6c4dae69d19",
    "_uuid": "8f2839f25d086af736a60e9eeb907d3b93b6e0e5",
    "execution": {
     "iopub.execute_input": "2025-01-30T02:55:53.353218Z",
     "iopub.status.busy": "2025-01-30T02:55:53.352827Z",
     "iopub.status.idle": "2025-01-30T02:55:54.144930Z",
     "shell.execute_reply": "2025-01-30T02:55:54.143880Z"
    },
    "papermill": {
     "duration": 0.798405,
     "end_time": "2025-01-30T02:55:54.146527",
     "exception": false,
     "start_time": "2025-01-30T02:55:53.348122",
     "status": "completed"
    },
    "tags": []
   },
   "outputs": [
    {
     "name": "stdout",
     "output_type": "stream",
     "text": [
      "/kaggle/input/imdb-dataset-of-50k-movie-reviews/IMDB Dataset.csv\n"
     ]
    }
   ],
   "source": [
    "# This Python 3 environment comes with many helpful analytics libraries installed\n",
    "# It is defined by the kaggle/python Docker image: https://github.com/kaggle/docker-python\n",
    "# For example, here's several helpful packages to load\n",
    "\n",
    "import numpy as np # linear algebra\n",
    "import pandas as pd # data processing, CSV file I/O (e.g. pd.read_csv)\n",
    "\n",
    "# Input data files are available in the read-only \"../input/\" directory\n",
    "# For example, running this (by clicking run or pressing Shift+Enter) will list all files under the input directory\n",
    "\n",
    "import os\n",
    "for dirname, _, filenames in os.walk('/kaggle/input'):\n",
    "    for filename in filenames:\n",
    "        print(os.path.join(dirname, filename))\n",
    "\n",
    "# You can write up to 20GB to the current directory (/kaggle/working/) that gets preserved as output when you create a version using \"Save & Run All\" \n",
    "# You can also write temporary files to /kaggle/temp/, but they won't be saved outside of the current session"
   ]
  },
  {
   "cell_type": "code",
   "execution_count": 2,
   "id": "812cee65",
   "metadata": {
    "execution": {
     "iopub.execute_input": "2025-01-30T02:55:54.153412Z",
     "iopub.status.busy": "2025-01-30T02:55:54.153018Z",
     "iopub.status.idle": "2025-01-30T02:55:55.721152Z",
     "shell.execute_reply": "2025-01-30T02:55:55.720224Z"
    },
    "papermill": {
     "duration": 1.573016,
     "end_time": "2025-01-30T02:55:55.722681",
     "exception": false,
     "start_time": "2025-01-30T02:55:54.149665",
     "status": "completed"
    },
    "tags": []
   },
   "outputs": [
    {
     "name": "stdout",
     "output_type": "stream",
     "text": [
      "shape ->  (50000, 2)\n"
     ]
    },
    {
     "data": {
      "text/html": [
       "<div>\n",
       "<style scoped>\n",
       "    .dataframe tbody tr th:only-of-type {\n",
       "        vertical-align: middle;\n",
       "    }\n",
       "\n",
       "    .dataframe tbody tr th {\n",
       "        vertical-align: top;\n",
       "    }\n",
       "\n",
       "    .dataframe thead th {\n",
       "        text-align: right;\n",
       "    }\n",
       "</style>\n",
       "<table border=\"1\" class=\"dataframe\">\n",
       "  <thead>\n",
       "    <tr style=\"text-align: right;\">\n",
       "      <th></th>\n",
       "      <th>review</th>\n",
       "      <th>sentiment</th>\n",
       "    </tr>\n",
       "  </thead>\n",
       "  <tbody>\n",
       "    <tr>\n",
       "      <th>0</th>\n",
       "      <td>One of the other reviewers has mentioned that ...</td>\n",
       "      <td>positive</td>\n",
       "    </tr>\n",
       "    <tr>\n",
       "      <th>1</th>\n",
       "      <td>A wonderful little production. &lt;br /&gt;&lt;br /&gt;The...</td>\n",
       "      <td>positive</td>\n",
       "    </tr>\n",
       "    <tr>\n",
       "      <th>2</th>\n",
       "      <td>I thought this was a wonderful way to spend ti...</td>\n",
       "      <td>positive</td>\n",
       "    </tr>\n",
       "    <tr>\n",
       "      <th>3</th>\n",
       "      <td>Basically there's a family where a little boy ...</td>\n",
       "      <td>negative</td>\n",
       "    </tr>\n",
       "    <tr>\n",
       "      <th>4</th>\n",
       "      <td>Petter Mattei's \"Love in the Time of Money\" is...</td>\n",
       "      <td>positive</td>\n",
       "    </tr>\n",
       "  </tbody>\n",
       "</table>\n",
       "</div>"
      ],
      "text/plain": [
       "                                              review sentiment\n",
       "0  One of the other reviewers has mentioned that ...  positive\n",
       "1  A wonderful little production. <br /><br />The...  positive\n",
       "2  I thought this was a wonderful way to spend ti...  positive\n",
       "3  Basically there's a family where a little boy ...  negative\n",
       "4  Petter Mattei's \"Love in the Time of Money\" is...  positive"
      ]
     },
     "execution_count": 2,
     "metadata": {},
     "output_type": "execute_result"
    }
   ],
   "source": [
    "imdb_data = pd.read_csv('/kaggle/input/imdb-dataset-of-50k-movie-reviews/IMDB Dataset.csv')\n",
    "print(\"shape -> \", imdb_data.shape)\n",
    "imdb_data.head()"
   ]
  },
  {
   "cell_type": "code",
   "execution_count": 3,
   "id": "c962ddd2",
   "metadata": {
    "execution": {
     "iopub.execute_input": "2025-01-30T02:55:55.729586Z",
     "iopub.status.busy": "2025-01-30T02:55:55.729286Z",
     "iopub.status.idle": "2025-01-30T02:55:55.833899Z",
     "shell.execute_reply": "2025-01-30T02:55:55.832950Z"
    },
    "papermill": {
     "duration": 0.109664,
     "end_time": "2025-01-30T02:55:55.835455",
     "exception": false,
     "start_time": "2025-01-30T02:55:55.725791",
     "status": "completed"
    },
    "tags": []
   },
   "outputs": [
    {
     "data": {
      "text/html": [
       "<div>\n",
       "<style scoped>\n",
       "    .dataframe tbody tr th:only-of-type {\n",
       "        vertical-align: middle;\n",
       "    }\n",
       "\n",
       "    .dataframe tbody tr th {\n",
       "        vertical-align: top;\n",
       "    }\n",
       "\n",
       "    .dataframe thead th {\n",
       "        text-align: right;\n",
       "    }\n",
       "</style>\n",
       "<table border=\"1\" class=\"dataframe\">\n",
       "  <thead>\n",
       "    <tr style=\"text-align: right;\">\n",
       "      <th></th>\n",
       "      <th>review</th>\n",
       "      <th>sentiment</th>\n",
       "    </tr>\n",
       "  </thead>\n",
       "  <tbody>\n",
       "    <tr>\n",
       "      <th>count</th>\n",
       "      <td>50000</td>\n",
       "      <td>50000</td>\n",
       "    </tr>\n",
       "    <tr>\n",
       "      <th>unique</th>\n",
       "      <td>49582</td>\n",
       "      <td>2</td>\n",
       "    </tr>\n",
       "    <tr>\n",
       "      <th>top</th>\n",
       "      <td>Loved today's show!!! It was a variety and not...</td>\n",
       "      <td>positive</td>\n",
       "    </tr>\n",
       "    <tr>\n",
       "      <th>freq</th>\n",
       "      <td>5</td>\n",
       "      <td>25000</td>\n",
       "    </tr>\n",
       "  </tbody>\n",
       "</table>\n",
       "</div>"
      ],
      "text/plain": [
       "                                                   review sentiment\n",
       "count                                               50000     50000\n",
       "unique                                              49582         2\n",
       "top     Loved today's show!!! It was a variety and not...  positive\n",
       "freq                                                    5     25000"
      ]
     },
     "execution_count": 3,
     "metadata": {},
     "output_type": "execute_result"
    }
   ],
   "source": [
    "imdb_data.describe()"
   ]
  },
  {
   "cell_type": "code",
   "execution_count": 4,
   "id": "2fb6ea0f",
   "metadata": {
    "execution": {
     "iopub.execute_input": "2025-01-30T02:55:55.842907Z",
     "iopub.status.busy": "2025-01-30T02:55:55.842573Z",
     "iopub.status.idle": "2025-01-30T02:55:55.851941Z",
     "shell.execute_reply": "2025-01-30T02:55:55.851020Z"
    },
    "papermill": {
     "duration": 0.014617,
     "end_time": "2025-01-30T02:55:55.853448",
     "exception": false,
     "start_time": "2025-01-30T02:55:55.838831",
     "status": "completed"
    },
    "tags": []
   },
   "outputs": [
    {
     "data": {
      "text/plain": [
       "sentiment\n",
       "positive    25000\n",
       "negative    25000\n",
       "Name: count, dtype: int64"
      ]
     },
     "execution_count": 4,
     "metadata": {},
     "output_type": "execute_result"
    }
   ],
   "source": [
    "imdb_data['sentiment'].value_counts()"
   ]
  },
  {
   "cell_type": "code",
   "execution_count": 5,
   "id": "1e925dea",
   "metadata": {
    "execution": {
     "iopub.execute_input": "2025-01-30T02:55:55.860861Z",
     "iopub.status.busy": "2025-01-30T02:55:55.860522Z",
     "iopub.status.idle": "2025-01-30T02:55:55.866330Z",
     "shell.execute_reply": "2025-01-30T02:55:55.865507Z"
    },
    "papermill": {
     "duration": 0.01086,
     "end_time": "2025-01-30T02:55:55.867670",
     "exception": false,
     "start_time": "2025-01-30T02:55:55.856810",
     "status": "completed"
    },
    "tags": []
   },
   "outputs": [
    {
     "name": "stdout",
     "output_type": "stream",
     "text": [
      "(40000,) (10000,)\n",
      "(40000,) (10000,)\n"
     ]
    }
   ],
   "source": [
    "train_reviews = imdb_data.review[:40000]\n",
    "test_reviews = imdb_data.review[:40000]\n",
    "\n",
    "train_sentiments = imdb_data.sentiment[40000:]\n",
    "test_sentiments = imdb_data.sentiment[40000:]\n",
    "\n",
    "print(train_reviews.shape,train_sentiments.shape)\n",
    "print(test_reviews.shape,test_sentiments.shape)"
   ]
  },
  {
   "cell_type": "code",
   "execution_count": 6,
   "id": "71d28528",
   "metadata": {
    "execution": {
     "iopub.execute_input": "2025-01-30T02:55:55.874982Z",
     "iopub.status.busy": "2025-01-30T02:55:55.874709Z",
     "iopub.status.idle": "2025-01-30T02:55:57.625291Z",
     "shell.execute_reply": "2025-01-30T02:55:57.624446Z"
    },
    "papermill": {
     "duration": 1.756203,
     "end_time": "2025-01-30T02:55:57.627155",
     "exception": false,
     "start_time": "2025-01-30T02:55:55.870952",
     "status": "completed"
    },
    "tags": []
   },
   "outputs": [],
   "source": [
    "import nltk\n",
    "from nltk.tokenize.toktok import ToktokTokenizer\n",
    "from nltk.corpus import stopwords\n",
    "\n",
    "tokenizer =  ToktokTokenizer()\n",
    "stopwords_list = nltk.corpus.stopwords.words('english')"
   ]
  },
  {
   "cell_type": "code",
   "execution_count": 7,
   "id": "4f7d13f3",
   "metadata": {
    "execution": {
     "iopub.execute_input": "2025-01-30T02:55:57.635368Z",
     "iopub.status.busy": "2025-01-30T02:55:57.634948Z",
     "iopub.status.idle": "2025-01-30T02:56:05.659425Z",
     "shell.execute_reply": "2025-01-30T02:56:05.658641Z"
    },
    "papermill": {
     "duration": 8.030397,
     "end_time": "2025-01-30T02:56:05.661265",
     "exception": false,
     "start_time": "2025-01-30T02:55:57.630868",
     "status": "completed"
    },
    "tags": []
   },
   "outputs": [
    {
     "name": "stderr",
     "output_type": "stream",
     "text": [
      "<ipython-input-7-a29d46815818>:5: MarkupResemblesLocatorWarning: The input looks more like a filename than markup. You may want to open this file and pass the filehandle into Beautiful Soup.\n",
      "  soup = BeautifulSoup(text, \"html.parser\")\n"
     ]
    }
   ],
   "source": [
    "from bs4 import BeautifulSoup\n",
    "import re\n",
    "\n",
    "def strip_html(text):\n",
    "    soup = BeautifulSoup(text, \"html.parser\")\n",
    "    return soup.get_text()\n",
    "\n",
    "def remove_square_brackets(text):\n",
    "    return re.sub('\\[[^]]*\\]','',text)\n",
    "\n",
    "def denoise_text(text):\n",
    "    text = strip_html(text)\n",
    "    text = remove_square_brackets(text)\n",
    "    return text\n",
    "\n",
    "imdb_data['review'] = imdb_data['review'].apply(denoise_text)"
   ]
  },
  {
   "cell_type": "code",
   "execution_count": 8,
   "id": "f2cc089b",
   "metadata": {
    "execution": {
     "iopub.execute_input": "2025-01-30T02:56:05.669539Z",
     "iopub.status.busy": "2025-01-30T02:56:05.669061Z",
     "iopub.status.idle": "2025-01-30T02:56:06.950372Z",
     "shell.execute_reply": "2025-01-30T02:56:06.949311Z"
    },
    "papermill": {
     "duration": 1.287446,
     "end_time": "2025-01-30T02:56:06.952342",
     "exception": false,
     "start_time": "2025-01-30T02:56:05.664896",
     "status": "completed"
    },
    "tags": []
   },
   "outputs": [],
   "source": [
    "def remove_special_charachters(text, remove_digits = True):\n",
    "    pattern = r'[^a-zA-Z0-9\\s]'\n",
    "    text = re.sub(pattern,'',text)\n",
    "    return text\n",
    "\n",
    "imdb_data['review'] = imdb_data['review'].apply(remove_special_charachters)"
   ]
  },
  {
   "cell_type": "code",
   "execution_count": 9,
   "id": "3bdaafc3",
   "metadata": {
    "execution": {
     "iopub.execute_input": "2025-01-30T02:56:06.960234Z",
     "iopub.status.busy": "2025-01-30T02:56:06.959950Z",
     "iopub.status.idle": "2025-01-30T02:59:05.760520Z",
     "shell.execute_reply": "2025-01-30T02:59:05.759460Z"
    },
    "papermill": {
     "duration": 178.806647,
     "end_time": "2025-01-30T02:59:05.762591",
     "exception": false,
     "start_time": "2025-01-30T02:56:06.955944",
     "status": "completed"
    },
    "tags": []
   },
   "outputs": [],
   "source": [
    "from nltk.stem.porter import PorterStemmer\n",
    "\n",
    "def simple_stemmer(text):\n",
    "    ps = PorterStemmer()\n",
    "    text = ' '.join([ps.stem(word) for word in text.split()])\n",
    "    return text\n",
    "\n",
    "imdb_data['review'] = imdb_data['review'].apply(simple_stemmer)"
   ]
  },
  {
   "cell_type": "code",
   "execution_count": null,
   "id": "3b5fd95a",
   "metadata": {
    "papermill": {
     "duration": 0.003187,
     "end_time": "2025-01-30T02:59:05.769593",
     "exception": false,
     "start_time": "2025-01-30T02:59:05.766406",
     "status": "completed"
    },
    "tags": []
   },
   "outputs": [],
   "source": []
  }
 ],
 "metadata": {
  "kaggle": {
   "accelerator": "none",
   "dataSources": [
    {
     "datasetId": 134715,
     "sourceId": 320111,
     "sourceType": "datasetVersion"
    }
   ],
   "dockerImageVersionId": 30839,
   "isGpuEnabled": false,
   "isInternetEnabled": false,
   "language": "python",
   "sourceType": "notebook"
  },
  "kernelspec": {
   "display_name": "Python 3",
   "language": "python",
   "name": "python3"
  },
  "language_info": {
   "codemirror_mode": {
    "name": "ipython",
    "version": 3
   },
   "file_extension": ".py",
   "mimetype": "text/x-python",
   "name": "python",
   "nbconvert_exporter": "python",
   "pygments_lexer": "ipython3",
   "version": "3.10.12"
  },
  "papermill": {
   "default_parameters": {},
   "duration": 195.683596,
   "end_time": "2025-01-30T02:59:06.492853",
   "environment_variables": {},
   "exception": null,
   "input_path": "__notebook__.ipynb",
   "output_path": "__notebook__.ipynb",
   "parameters": {},
   "start_time": "2025-01-30T02:55:50.809257",
   "version": "2.6.0"
  }
 },
 "nbformat": 4,
 "nbformat_minor": 5
}
