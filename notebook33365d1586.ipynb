{
 "cells": [
  {
   "cell_type": "code",
   "execution_count": 1,
   "id": "98c9a26c",
   "metadata": {
    "_cell_guid": "b1076dfc-b9ad-4769-8c92-a6c4dae69d19",
    "_uuid": "8f2839f25d086af736a60e9eeb907d3b93b6e0e5",
    "execution": {
     "iopub.execute_input": "2025-01-30T02:48:49.658316Z",
     "iopub.status.busy": "2025-01-30T02:48:49.657925Z",
     "iopub.status.idle": "2025-01-30T02:48:50.745266Z",
     "shell.execute_reply": "2025-01-30T02:48:50.744018Z"
    },
    "papermill": {
     "duration": 1.094355,
     "end_time": "2025-01-30T02:48:50.747353",
     "exception": false,
     "start_time": "2025-01-30T02:48:49.652998",
     "status": "completed"
    },
    "tags": []
   },
   "outputs": [
    {
     "name": "stdout",
     "output_type": "stream",
     "text": [
      "/kaggle/input/imdb-dataset-of-50k-movie-reviews/IMDB Dataset.csv\n"
     ]
    }
   ],
   "source": [
    "# This Python 3 environment comes with many helpful analytics libraries installed\n",
    "# It is defined by the kaggle/python Docker image: https://github.com/kaggle/docker-python\n",
    "# For example, here's several helpful packages to load\n",
    "\n",
    "import numpy as np # linear algebra\n",
    "import pandas as pd # data processing, CSV file I/O (e.g. pd.read_csv)\n",
    "\n",
    "# Input data files are available in the read-only \"../input/\" directory\n",
    "# For example, running this (by clicking run or pressing Shift+Enter) will list all files under the input directory\n",
    "\n",
    "import os\n",
    "for dirname, _, filenames in os.walk('/kaggle/input'):\n",
    "    for filename in filenames:\n",
    "        print(os.path.join(dirname, filename))\n",
    "\n",
    "# You can write up to 20GB to the current directory (/kaggle/working/) that gets preserved as output when you create a version using \"Save & Run All\" \n",
    "# You can also write temporary files to /kaggle/temp/, but they won't be saved outside of the current session"
   ]
  },
  {
   "cell_type": "code",
   "execution_count": 2,
   "id": "fb34392b",
   "metadata": {
    "execution": {
     "iopub.execute_input": "2025-01-30T02:48:50.755366Z",
     "iopub.status.busy": "2025-01-30T02:48:50.754836Z",
     "iopub.status.idle": "2025-01-30T02:48:52.540712Z",
     "shell.execute_reply": "2025-01-30T02:48:52.539640Z"
    },
    "papermill": {
     "duration": 1.792104,
     "end_time": "2025-01-30T02:48:52.542946",
     "exception": false,
     "start_time": "2025-01-30T02:48:50.750842",
     "status": "completed"
    },
    "tags": []
   },
   "outputs": [
    {
     "name": "stdout",
     "output_type": "stream",
     "text": [
      "shape ->  (50000, 2)\n"
     ]
    },
    {
     "data": {
      "text/html": [
       "<div>\n",
       "<style scoped>\n",
       "    .dataframe tbody tr th:only-of-type {\n",
       "        vertical-align: middle;\n",
       "    }\n",
       "\n",
       "    .dataframe tbody tr th {\n",
       "        vertical-align: top;\n",
       "    }\n",
       "\n",
       "    .dataframe thead th {\n",
       "        text-align: right;\n",
       "    }\n",
       "</style>\n",
       "<table border=\"1\" class=\"dataframe\">\n",
       "  <thead>\n",
       "    <tr style=\"text-align: right;\">\n",
       "      <th></th>\n",
       "      <th>review</th>\n",
       "      <th>sentiment</th>\n",
       "    </tr>\n",
       "  </thead>\n",
       "  <tbody>\n",
       "    <tr>\n",
       "      <th>0</th>\n",
       "      <td>One of the other reviewers has mentioned that ...</td>\n",
       "      <td>positive</td>\n",
       "    </tr>\n",
       "    <tr>\n",
       "      <th>1</th>\n",
       "      <td>A wonderful little production. &lt;br /&gt;&lt;br /&gt;The...</td>\n",
       "      <td>positive</td>\n",
       "    </tr>\n",
       "    <tr>\n",
       "      <th>2</th>\n",
       "      <td>I thought this was a wonderful way to spend ti...</td>\n",
       "      <td>positive</td>\n",
       "    </tr>\n",
       "    <tr>\n",
       "      <th>3</th>\n",
       "      <td>Basically there's a family where a little boy ...</td>\n",
       "      <td>negative</td>\n",
       "    </tr>\n",
       "    <tr>\n",
       "      <th>4</th>\n",
       "      <td>Petter Mattei's \"Love in the Time of Money\" is...</td>\n",
       "      <td>positive</td>\n",
       "    </tr>\n",
       "  </tbody>\n",
       "</table>\n",
       "</div>"
      ],
      "text/plain": [
       "                                              review sentiment\n",
       "0  One of the other reviewers has mentioned that ...  positive\n",
       "1  A wonderful little production. <br /><br />The...  positive\n",
       "2  I thought this was a wonderful way to spend ti...  positive\n",
       "3  Basically there's a family where a little boy ...  negative\n",
       "4  Petter Mattei's \"Love in the Time of Money\" is...  positive"
      ]
     },
     "execution_count": 2,
     "metadata": {},
     "output_type": "execute_result"
    }
   ],
   "source": [
    "imdb_data = pd.read_csv('/kaggle/input/imdb-dataset-of-50k-movie-reviews/IMDB Dataset.csv')\n",
    "print(\"shape -> \", imdb_data.shape)\n",
    "imdb_data.head()"
   ]
  },
  {
   "cell_type": "code",
   "execution_count": 3,
   "id": "80355895",
   "metadata": {
    "execution": {
     "iopub.execute_input": "2025-01-30T02:48:52.555125Z",
     "iopub.status.busy": "2025-01-30T02:48:52.554765Z",
     "iopub.status.idle": "2025-01-30T02:48:52.692529Z",
     "shell.execute_reply": "2025-01-30T02:48:52.691343Z"
    },
    "papermill": {
     "duration": 0.146051,
     "end_time": "2025-01-30T02:48:52.694434",
     "exception": false,
     "start_time": "2025-01-30T02:48:52.548383",
     "status": "completed"
    },
    "tags": []
   },
   "outputs": [
    {
     "data": {
      "text/html": [
       "<div>\n",
       "<style scoped>\n",
       "    .dataframe tbody tr th:only-of-type {\n",
       "        vertical-align: middle;\n",
       "    }\n",
       "\n",
       "    .dataframe tbody tr th {\n",
       "        vertical-align: top;\n",
       "    }\n",
       "\n",
       "    .dataframe thead th {\n",
       "        text-align: right;\n",
       "    }\n",
       "</style>\n",
       "<table border=\"1\" class=\"dataframe\">\n",
       "  <thead>\n",
       "    <tr style=\"text-align: right;\">\n",
       "      <th></th>\n",
       "      <th>review</th>\n",
       "      <th>sentiment</th>\n",
       "    </tr>\n",
       "  </thead>\n",
       "  <tbody>\n",
       "    <tr>\n",
       "      <th>count</th>\n",
       "      <td>50000</td>\n",
       "      <td>50000</td>\n",
       "    </tr>\n",
       "    <tr>\n",
       "      <th>unique</th>\n",
       "      <td>49582</td>\n",
       "      <td>2</td>\n",
       "    </tr>\n",
       "    <tr>\n",
       "      <th>top</th>\n",
       "      <td>Loved today's show!!! It was a variety and not...</td>\n",
       "      <td>positive</td>\n",
       "    </tr>\n",
       "    <tr>\n",
       "      <th>freq</th>\n",
       "      <td>5</td>\n",
       "      <td>25000</td>\n",
       "    </tr>\n",
       "  </tbody>\n",
       "</table>\n",
       "</div>"
      ],
      "text/plain": [
       "                                                   review sentiment\n",
       "count                                               50000     50000\n",
       "unique                                              49582         2\n",
       "top     Loved today's show!!! It was a variety and not...  positive\n",
       "freq                                                    5     25000"
      ]
     },
     "execution_count": 3,
     "metadata": {},
     "output_type": "execute_result"
    }
   ],
   "source": [
    "imdb_data.describe()"
   ]
  },
  {
   "cell_type": "code",
   "execution_count": 4,
   "id": "30be4b0a",
   "metadata": {
    "execution": {
     "iopub.execute_input": "2025-01-30T02:48:52.706817Z",
     "iopub.status.busy": "2025-01-30T02:48:52.706388Z",
     "iopub.status.idle": "2025-01-30T02:48:52.718350Z",
     "shell.execute_reply": "2025-01-30T02:48:52.716896Z"
    },
    "papermill": {
     "duration": 0.019973,
     "end_time": "2025-01-30T02:48:52.720245",
     "exception": false,
     "start_time": "2025-01-30T02:48:52.700272",
     "status": "completed"
    },
    "tags": []
   },
   "outputs": [
    {
     "data": {
      "text/plain": [
       "sentiment\n",
       "positive    25000\n",
       "negative    25000\n",
       "Name: count, dtype: int64"
      ]
     },
     "execution_count": 4,
     "metadata": {},
     "output_type": "execute_result"
    }
   ],
   "source": [
    "imdb_data['sentiment'].value_counts()"
   ]
  },
  {
   "cell_type": "code",
   "execution_count": 5,
   "id": "8d7d0f23",
   "metadata": {
    "execution": {
     "iopub.execute_input": "2025-01-30T02:48:52.729302Z",
     "iopub.status.busy": "2025-01-30T02:48:52.728935Z",
     "iopub.status.idle": "2025-01-30T02:48:52.736642Z",
     "shell.execute_reply": "2025-01-30T02:48:52.735584Z"
    },
    "papermill": {
     "duration": 0.01423,
     "end_time": "2025-01-30T02:48:52.738660",
     "exception": false,
     "start_time": "2025-01-30T02:48:52.724430",
     "status": "completed"
    },
    "tags": []
   },
   "outputs": [
    {
     "name": "stdout",
     "output_type": "stream",
     "text": [
      "(40000,) (10000,)\n",
      "(40000,) (10000,)\n"
     ]
    }
   ],
   "source": [
    "train_reviews = imdb_data.review[:40000]\n",
    "test_reviews = imdb_data.review[:40000]\n",
    "\n",
    "train_sentiments = imdb_data.sentiment[40000:]\n",
    "test_sentiments = imdb_data.sentiment[40000:]\n",
    "\n",
    "print(train_reviews.shape,train_sentiments.shape)\n",
    "print(test_reviews.shape,test_sentiments.shape)"
   ]
  },
  {
   "cell_type": "code",
   "execution_count": 6,
   "id": "d0393cf7",
   "metadata": {
    "execution": {
     "iopub.execute_input": "2025-01-30T02:48:52.747524Z",
     "iopub.status.busy": "2025-01-30T02:48:52.747045Z",
     "iopub.status.idle": "2025-01-30T02:48:55.203982Z",
     "shell.execute_reply": "2025-01-30T02:48:55.202900Z"
    },
    "papermill": {
     "duration": 2.463401,
     "end_time": "2025-01-30T02:48:55.205883",
     "exception": false,
     "start_time": "2025-01-30T02:48:52.742482",
     "status": "completed"
    },
    "tags": []
   },
   "outputs": [],
   "source": [
    "import nltk\n",
    "from nltk.tokenize.toktok import ToktokTokenizer\n",
    "from nltk.corpus import stopwords\n",
    "\n",
    "tokenizer =  ToktokTokenizer()\n",
    "stopwords_list = nltk.corpus.stopwords.words('english')"
   ]
  },
  {
   "cell_type": "code",
   "execution_count": 7,
   "id": "8b4907c5",
   "metadata": {
    "execution": {
     "iopub.execute_input": "2025-01-30T02:48:55.214782Z",
     "iopub.status.busy": "2025-01-30T02:48:55.214164Z",
     "iopub.status.idle": "2025-01-30T02:49:03.245743Z",
     "shell.execute_reply": "2025-01-30T02:49:03.244527Z"
    },
    "papermill": {
     "duration": 8.037976,
     "end_time": "2025-01-30T02:49:03.247622",
     "exception": false,
     "start_time": "2025-01-30T02:48:55.209646",
     "status": "completed"
    },
    "tags": []
   },
   "outputs": [
    {
     "name": "stderr",
     "output_type": "stream",
     "text": [
      "<ipython-input-7-a29d46815818>:5: MarkupResemblesLocatorWarning: The input looks more like a filename than markup. You may want to open this file and pass the filehandle into Beautiful Soup.\n",
      "  soup = BeautifulSoup(text, \"html.parser\")\n"
     ]
    }
   ],
   "source": [
    "from bs4 import BeautifulSoup\n",
    "import re\n",
    "\n",
    "def strip_html(text):\n",
    "    soup = BeautifulSoup(text, \"html.parser\")\n",
    "    return soup.get_text()\n",
    "\n",
    "def remove_square_brackets(text):\n",
    "    return re.sub('\\[[^]]*\\]','',text)\n",
    "\n",
    "def denoise_text(text):\n",
    "    text = strip_html(text)\n",
    "    text = remove_square_brackets(text)\n",
    "    return text\n",
    "\n",
    "imdb_data['review'] = imdb_data['review'].apply(denoise_text)"
   ]
  },
  {
   "cell_type": "code",
   "execution_count": 8,
   "id": "cd30ea56",
   "metadata": {
    "execution": {
     "iopub.execute_input": "2025-01-30T02:49:03.256732Z",
     "iopub.status.busy": "2025-01-30T02:49:03.256123Z",
     "iopub.status.idle": "2025-01-30T02:49:04.599477Z",
     "shell.execute_reply": "2025-01-30T02:49:04.597951Z"
    },
    "papermill": {
     "duration": 1.350177,
     "end_time": "2025-01-30T02:49:04.601622",
     "exception": false,
     "start_time": "2025-01-30T02:49:03.251445",
     "status": "completed"
    },
    "tags": []
   },
   "outputs": [],
   "source": [
    "def remove_special_charachters(text, remove_digits = True):\n",
    "    pattern = r'[^a-zA-Z0-9\\s]'\n",
    "    text = re.sub(pattern,'',text)\n",
    "    return text\n",
    "\n",
    "imdb_data['review'] = imdb_data['review'].apply(remove_special_charachters)"
   ]
  },
  {
   "cell_type": "code",
   "execution_count": 9,
   "id": "65d53928",
   "metadata": {
    "execution": {
     "iopub.execute_input": "2025-01-30T02:49:04.610976Z",
     "iopub.status.busy": "2025-01-30T02:49:04.610589Z",
     "iopub.status.idle": "2025-01-30T02:52:10.315013Z",
     "shell.execute_reply": "2025-01-30T02:52:10.314076Z"
    },
    "papermill": {
     "duration": 185.711432,
     "end_time": "2025-01-30T02:52:10.317073",
     "exception": false,
     "start_time": "2025-01-30T02:49:04.605641",
     "status": "completed"
    },
    "tags": []
   },
   "outputs": [],
   "source": [
    "from nltk.stem.porter import PorterStemmer\n",
    "\n",
    "def simple_stemmer(text):\n",
    "    ps = PorterStemmer()\n",
    "    text = ' '.join([ps.stem(word) for word in text.split()])\n",
    "    return text\n",
    "\n",
    "imdb_data['review'] = imdb_data['review'].apply(simple_stemmer)"
   ]
  },
  {
   "cell_type": "code",
   "execution_count": null,
   "id": "92e362f5",
   "metadata": {
    "papermill": {
     "duration": 0.003171,
     "end_time": "2025-01-30T02:52:10.324261",
     "exception": false,
     "start_time": "2025-01-30T02:52:10.321090",
     "status": "completed"
    },
    "tags": []
   },
   "outputs": [],
   "source": []
  }
 ],
 "metadata": {
  "kaggle": {
   "accelerator": "none",
   "dataSources": [
    {
     "datasetId": 134715,
     "sourceId": 320111,
     "sourceType": "datasetVersion"
    }
   ],
   "dockerImageVersionId": 30839,
   "isGpuEnabled": false,
   "isInternetEnabled": false,
   "language": "python",
   "sourceType": "notebook"
  },
  "kernelspec": {
   "display_name": "Python 3",
   "language": "python",
   "name": "python3"
  },
  "language_info": {
   "codemirror_mode": {
    "name": "ipython",
    "version": 3
   },
   "file_extension": ".py",
   "mimetype": "text/x-python",
   "name": "python",
   "nbconvert_exporter": "python",
   "pygments_lexer": "ipython3",
   "version": "3.10.12"
  },
  "papermill": {
   "default_parameters": {},
   "duration": 204.474548,
   "end_time": "2025-01-30T02:52:11.149424",
   "environment_variables": {},
   "exception": null,
   "input_path": "__notebook__.ipynb",
   "output_path": "__notebook__.ipynb",
   "parameters": {},
   "start_time": "2025-01-30T02:48:46.674876",
   "version": "2.6.0"
  }
 },
 "nbformat": 4,
 "nbformat_minor": 5
}
