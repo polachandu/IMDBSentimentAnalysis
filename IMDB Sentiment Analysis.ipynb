{
 "cells": [
  {
   "cell_type": "code",
   "execution_count": 1,
   "id": "91739ca8",
   "metadata": {
    "_cell_guid": "b1076dfc-b9ad-4769-8c92-a6c4dae69d19",
    "_uuid": "8f2839f25d086af736a60e9eeb907d3b93b6e0e5",
    "execution": {
     "iopub.execute_input": "2025-02-02T05:51:14.195287Z",
     "iopub.status.busy": "2025-02-02T05:51:14.194718Z",
     "iopub.status.idle": "2025-02-02T05:51:15.334646Z",
     "shell.execute_reply": "2025-02-02T05:51:15.333143Z"
    },
    "papermill": {
     "duration": 1.148822,
     "end_time": "2025-02-02T05:51:15.337331",
     "exception": false,
     "start_time": "2025-02-02T05:51:14.188509",
     "status": "completed"
    },
    "tags": []
   },
   "outputs": [
    {
     "name": "stdout",
     "output_type": "stream",
     "text": [
      "/kaggle/input/imdb-dataset-of-50k-movie-reviews/IMDB Dataset.csv\n"
     ]
    }
   ],
   "source": [
    "# This Python 3 environment comes with many helpful analytics libraries installed\n",
    "# It is defined by the kaggle/python Docker image: https://github.com/kaggle/docker-python\n",
    "# For example, here's several helpful packages to load\n",
    "\n",
    "import numpy as np # linear algebra\n",
    "import pandas as pd # data processing, CSV file I/O (e.g. pd.read_csv)\n",
    "import pdb\n",
    "# Input data files are available in the read-only \"../input/\" directory\n",
    "# For example, running this (by clicking run or pressing Shift+Enter) will list all files under the input directory\n",
    "\n",
    "import os\n",
    "for dirname, _, filenames in os.walk('/kaggle/input'):\n",
    "    for filename in filenames:\n",
    "        print(os.path.join(dirname, filename))\n",
    "\n",
    "# You can write up to 20GB to the current directory (/kaggle/working/) that gets preserved as output when you create a version using \"Save & Run All\" \n",
    "# You can also write temporary files to /kaggle/temp/, but they won't be saved outside of the current session"
   ]
  },
  {
   "cell_type": "code",
   "execution_count": 2,
   "id": "ef581335",
   "metadata": {
    "execution": {
     "iopub.execute_input": "2025-02-02T05:51:15.347119Z",
     "iopub.status.busy": "2025-02-02T05:51:15.346595Z",
     "iopub.status.idle": "2025-02-02T05:51:16.993676Z",
     "shell.execute_reply": "2025-02-02T05:51:16.992505Z"
    },
    "papermill": {
     "duration": 1.653739,
     "end_time": "2025-02-02T05:51:16.995574",
     "exception": false,
     "start_time": "2025-02-02T05:51:15.341835",
     "status": "completed"
    },
    "tags": []
   },
   "outputs": [
    {
     "name": "stdout",
     "output_type": "stream",
     "text": [
      "shape ->  (50000, 2)\n"
     ]
    },
    {
     "data": {
      "text/html": [
       "<div>\n",
       "<style scoped>\n",
       "    .dataframe tbody tr th:only-of-type {\n",
       "        vertical-align: middle;\n",
       "    }\n",
       "\n",
       "    .dataframe tbody tr th {\n",
       "        vertical-align: top;\n",
       "    }\n",
       "\n",
       "    .dataframe thead th {\n",
       "        text-align: right;\n",
       "    }\n",
       "</style>\n",
       "<table border=\"1\" class=\"dataframe\">\n",
       "  <thead>\n",
       "    <tr style=\"text-align: right;\">\n",
       "      <th></th>\n",
       "      <th>review</th>\n",
       "      <th>sentiment</th>\n",
       "    </tr>\n",
       "  </thead>\n",
       "  <tbody>\n",
       "    <tr>\n",
       "      <th>0</th>\n",
       "      <td>One of the other reviewers has mentioned that ...</td>\n",
       "      <td>positive</td>\n",
       "    </tr>\n",
       "    <tr>\n",
       "      <th>1</th>\n",
       "      <td>A wonderful little production. &lt;br /&gt;&lt;br /&gt;The...</td>\n",
       "      <td>positive</td>\n",
       "    </tr>\n",
       "    <tr>\n",
       "      <th>2</th>\n",
       "      <td>I thought this was a wonderful way to spend ti...</td>\n",
       "      <td>positive</td>\n",
       "    </tr>\n",
       "    <tr>\n",
       "      <th>3</th>\n",
       "      <td>Basically there's a family where a little boy ...</td>\n",
       "      <td>negative</td>\n",
       "    </tr>\n",
       "    <tr>\n",
       "      <th>4</th>\n",
       "      <td>Petter Mattei's \"Love in the Time of Money\" is...</td>\n",
       "      <td>positive</td>\n",
       "    </tr>\n",
       "  </tbody>\n",
       "</table>\n",
       "</div>"
      ],
      "text/plain": [
       "                                              review sentiment\n",
       "0  One of the other reviewers has mentioned that ...  positive\n",
       "1  A wonderful little production. <br /><br />The...  positive\n",
       "2  I thought this was a wonderful way to spend ti...  positive\n",
       "3  Basically there's a family where a little boy ...  negative\n",
       "4  Petter Mattei's \"Love in the Time of Money\" is...  positive"
      ]
     },
     "execution_count": 2,
     "metadata": {},
     "output_type": "execute_result"
    }
   ],
   "source": [
    "imdb_data = pd.read_csv('/kaggle/input/imdb-dataset-of-50k-movie-reviews/IMDB Dataset.csv')\n",
    "print(\"shape -> \", imdb_data.shape)\n",
    "imdb_data.head()"
   ]
  },
  {
   "cell_type": "code",
   "execution_count": 3,
   "id": "da23523f",
   "metadata": {
    "execution": {
     "iopub.execute_input": "2025-02-02T05:51:17.004479Z",
     "iopub.status.busy": "2025-02-02T05:51:17.004115Z",
     "iopub.status.idle": "2025-02-02T05:51:17.130599Z",
     "shell.execute_reply": "2025-02-02T05:51:17.129453Z"
    },
    "papermill": {
     "duration": 0.132899,
     "end_time": "2025-02-02T05:51:17.132438",
     "exception": false,
     "start_time": "2025-02-02T05:51:16.999539",
     "status": "completed"
    },
    "tags": []
   },
   "outputs": [
    {
     "data": {
      "text/html": [
       "<div>\n",
       "<style scoped>\n",
       "    .dataframe tbody tr th:only-of-type {\n",
       "        vertical-align: middle;\n",
       "    }\n",
       "\n",
       "    .dataframe tbody tr th {\n",
       "        vertical-align: top;\n",
       "    }\n",
       "\n",
       "    .dataframe thead th {\n",
       "        text-align: right;\n",
       "    }\n",
       "</style>\n",
       "<table border=\"1\" class=\"dataframe\">\n",
       "  <thead>\n",
       "    <tr style=\"text-align: right;\">\n",
       "      <th></th>\n",
       "      <th>review</th>\n",
       "      <th>sentiment</th>\n",
       "    </tr>\n",
       "  </thead>\n",
       "  <tbody>\n",
       "    <tr>\n",
       "      <th>count</th>\n",
       "      <td>50000</td>\n",
       "      <td>50000</td>\n",
       "    </tr>\n",
       "    <tr>\n",
       "      <th>unique</th>\n",
       "      <td>49582</td>\n",
       "      <td>2</td>\n",
       "    </tr>\n",
       "    <tr>\n",
       "      <th>top</th>\n",
       "      <td>Loved today's show!!! It was a variety and not...</td>\n",
       "      <td>positive</td>\n",
       "    </tr>\n",
       "    <tr>\n",
       "      <th>freq</th>\n",
       "      <td>5</td>\n",
       "      <td>25000</td>\n",
       "    </tr>\n",
       "  </tbody>\n",
       "</table>\n",
       "</div>"
      ],
      "text/plain": [
       "                                                   review sentiment\n",
       "count                                               50000     50000\n",
       "unique                                              49582         2\n",
       "top     Loved today's show!!! It was a variety and not...  positive\n",
       "freq                                                    5     25000"
      ]
     },
     "execution_count": 3,
     "metadata": {},
     "output_type": "execute_result"
    }
   ],
   "source": [
    "imdb_data.describe()"
   ]
  },
  {
   "cell_type": "code",
   "execution_count": 4,
   "id": "47fef53b",
   "metadata": {
    "execution": {
     "iopub.execute_input": "2025-02-02T05:51:17.142088Z",
     "iopub.status.busy": "2025-02-02T05:51:17.141704Z",
     "iopub.status.idle": "2025-02-02T05:51:17.152835Z",
     "shell.execute_reply": "2025-02-02T05:51:17.151453Z"
    },
    "papermill": {
     "duration": 0.0179,
     "end_time": "2025-02-02T05:51:17.154723",
     "exception": false,
     "start_time": "2025-02-02T05:51:17.136823",
     "status": "completed"
    },
    "tags": []
   },
   "outputs": [
    {
     "data": {
      "text/plain": [
       "sentiment\n",
       "positive    25000\n",
       "negative    25000\n",
       "Name: count, dtype: int64"
      ]
     },
     "execution_count": 4,
     "metadata": {},
     "output_type": "execute_result"
    }
   ],
   "source": [
    "imdb_data['sentiment'].value_counts()"
   ]
  },
  {
   "cell_type": "code",
   "execution_count": 5,
   "id": "04adc519",
   "metadata": {
    "execution": {
     "iopub.execute_input": "2025-02-02T05:51:17.164282Z",
     "iopub.status.busy": "2025-02-02T05:51:17.163882Z",
     "iopub.status.idle": "2025-02-02T05:51:17.171232Z",
     "shell.execute_reply": "2025-02-02T05:51:17.170166Z"
    },
    "papermill": {
     "duration": 0.013995,
     "end_time": "2025-02-02T05:51:17.172868",
     "exception": false,
     "start_time": "2025-02-02T05:51:17.158873",
     "status": "completed"
    },
    "tags": []
   },
   "outputs": [
    {
     "name": "stdout",
     "output_type": "stream",
     "text": [
      "(40000,) (10000,)\n",
      "(40000,) (10000,)\n"
     ]
    }
   ],
   "source": [
    "train_reviews = imdb_data.review[:40000]\n",
    "test_reviews = imdb_data.review[:40000]\n",
    "\n",
    "train_sentiments = imdb_data.sentiment[40000:]\n",
    "test_sentiments = imdb_data.sentiment[40000:]\n",
    "\n",
    "print(train_reviews.shape,train_sentiments.shape)\n",
    "print(test_reviews.shape,test_sentiments.shape)"
   ]
  },
  {
   "cell_type": "code",
   "execution_count": 6,
   "id": "f54f6e24",
   "metadata": {
    "execution": {
     "iopub.execute_input": "2025-02-02T05:51:17.182989Z",
     "iopub.status.busy": "2025-02-02T05:51:17.182622Z",
     "iopub.status.idle": "2025-02-02T05:51:19.653999Z",
     "shell.execute_reply": "2025-02-02T05:51:19.652838Z"
    },
    "papermill": {
     "duration": 2.478443,
     "end_time": "2025-02-02T05:51:19.655825",
     "exception": false,
     "start_time": "2025-02-02T05:51:17.177382",
     "status": "completed"
    },
    "tags": []
   },
   "outputs": [
    {
     "data": {
      "text/html": [
       "<div>\n",
       "<style scoped>\n",
       "    .dataframe tbody tr th:only-of-type {\n",
       "        vertical-align: middle;\n",
       "    }\n",
       "\n",
       "    .dataframe tbody tr th {\n",
       "        vertical-align: top;\n",
       "    }\n",
       "\n",
       "    .dataframe thead th {\n",
       "        text-align: right;\n",
       "    }\n",
       "</style>\n",
       "<table border=\"1\" class=\"dataframe\">\n",
       "  <thead>\n",
       "    <tr style=\"text-align: right;\">\n",
       "      <th></th>\n",
       "      <th>review</th>\n",
       "      <th>sentiment</th>\n",
       "    </tr>\n",
       "  </thead>\n",
       "  <tbody>\n",
       "    <tr>\n",
       "      <th>0</th>\n",
       "      <td>One of the other reviewers has mentioned that ...</td>\n",
       "      <td>positive</td>\n",
       "    </tr>\n",
       "    <tr>\n",
       "      <th>1</th>\n",
       "      <td>A wonderful little production. &lt;br /&gt;&lt;br /&gt;The...</td>\n",
       "      <td>positive</td>\n",
       "    </tr>\n",
       "    <tr>\n",
       "      <th>2</th>\n",
       "      <td>I thought this was a wonderful way to spend ti...</td>\n",
       "      <td>positive</td>\n",
       "    </tr>\n",
       "    <tr>\n",
       "      <th>3</th>\n",
       "      <td>Basically there's a family where a little boy ...</td>\n",
       "      <td>negative</td>\n",
       "    </tr>\n",
       "    <tr>\n",
       "      <th>4</th>\n",
       "      <td>Petter Mattei's \"Love in the Time of Money\" is...</td>\n",
       "      <td>positive</td>\n",
       "    </tr>\n",
       "  </tbody>\n",
       "</table>\n",
       "</div>"
      ],
      "text/plain": [
       "                                              review sentiment\n",
       "0  One of the other reviewers has mentioned that ...  positive\n",
       "1  A wonderful little production. <br /><br />The...  positive\n",
       "2  I thought this was a wonderful way to spend ti...  positive\n",
       "3  Basically there's a family where a little boy ...  negative\n",
       "4  Petter Mattei's \"Love in the Time of Money\" is...  positive"
      ]
     },
     "execution_count": 6,
     "metadata": {},
     "output_type": "execute_result"
    }
   ],
   "source": [
    "import nltk\n",
    "from nltk.tokenize.toktok import ToktokTokenizer\n",
    "from nltk.corpus import stopwords\n",
    "\n",
    "tokenizer =  ToktokTokenizer()\n",
    "stopwords_list = nltk.corpus.stopwords.words('english')\n",
    "imdb_data.head()"
   ]
  },
  {
   "cell_type": "code",
   "execution_count": 7,
   "id": "ab5a7bf7",
   "metadata": {
    "execution": {
     "iopub.execute_input": "2025-02-02T05:51:19.666732Z",
     "iopub.status.busy": "2025-02-02T05:51:19.666168Z",
     "iopub.status.idle": "2025-02-02T05:51:19.670431Z",
     "shell.execute_reply": "2025-02-02T05:51:19.669418Z"
    },
    "papermill": {
     "duration": 0.011753,
     "end_time": "2025-02-02T05:51:19.672126",
     "exception": false,
     "start_time": "2025-02-02T05:51:19.660373",
     "status": "completed"
    },
    "tags": []
   },
   "outputs": [],
   "source": [
    "# from bs4 import BeautifulSoup\n",
    "# import re\n",
    "\n",
    "# def strip_html(text):\n",
    "#     soup = BeautifulSoup(text, \"html.parser\")\n",
    "#     return soup.get_text()\n",
    "\n",
    "# def remove_square_brackets(text):\n",
    "#     return re.sub('\\[[^]]*\\]','',text)\n",
    "\n",
    "# def denoise_text(text):\n",
    "#     text = strip_html(text)\n",
    "#     text = remove_square_brackets(text)\n",
    "#     return text\n",
    "\n",
    "# imdb_data['review'] = imdb_data['review'].apply(denoise_text)\n",
    "# imdb_data.head()"
   ]
  },
  {
   "cell_type": "code",
   "execution_count": 8,
   "id": "de17ab40",
   "metadata": {
    "execution": {
     "iopub.execute_input": "2025-02-02T05:51:19.682166Z",
     "iopub.status.busy": "2025-02-02T05:51:19.681756Z",
     "iopub.status.idle": "2025-02-02T05:51:19.686104Z",
     "shell.execute_reply": "2025-02-02T05:51:19.684810Z"
    },
    "papermill": {
     "duration": 0.011079,
     "end_time": "2025-02-02T05:51:19.687826",
     "exception": false,
     "start_time": "2025-02-02T05:51:19.676747",
     "status": "completed"
    },
    "tags": []
   },
   "outputs": [],
   "source": [
    "# def remove_special_charachters(text, remove_digits = True):\n",
    "#     pattern = r'[^a-zA-Z0-9\\s]'\n",
    "#     text = re.sub(pattern,'',text)\n",
    "#     return text\n",
    "\n",
    "# imdb_data['review'] = imdb_data['review'].apply(remove_special_charachters)\n",
    "# imdb_data.head()"
   ]
  },
  {
   "cell_type": "code",
   "execution_count": 9,
   "id": "0370dd59",
   "metadata": {
    "execution": {
     "iopub.execute_input": "2025-02-02T05:51:19.698017Z",
     "iopub.status.busy": "2025-02-02T05:51:19.697675Z",
     "iopub.status.idle": "2025-02-02T05:51:19.701600Z",
     "shell.execute_reply": "2025-02-02T05:51:19.700581Z"
    },
    "papermill": {
     "duration": 0.010971,
     "end_time": "2025-02-02T05:51:19.703391",
     "exception": false,
     "start_time": "2025-02-02T05:51:19.692420",
     "status": "completed"
    },
    "tags": []
   },
   "outputs": [],
   "source": [
    "# from nltk.stem.porter import PorterStemmer\n",
    "\n",
    "# def simple_stemmer(text):\n",
    "#     ps = PorterStemmer()\n",
    "#     text = ' '.join([ps.stem(word) for word in text.split()])\n",
    "#     return text\n",
    "\n",
    "# imdb_data['review'] = imdb_data['review'].apply(simple_stemmer)\n",
    "# imdb_data.head()"
   ]
  },
  {
   "cell_type": "code",
   "execution_count": 10,
   "id": "72177891",
   "metadata": {
    "execution": {
     "iopub.execute_input": "2025-02-02T05:51:19.713267Z",
     "iopub.status.busy": "2025-02-02T05:51:19.712861Z",
     "iopub.status.idle": "2025-02-02T05:51:19.716563Z",
     "shell.execute_reply": "2025-02-02T05:51:19.715752Z"
    },
    "papermill": {
     "duration": 0.010492,
     "end_time": "2025-02-02T05:51:19.718194",
     "exception": false,
     "start_time": "2025-02-02T05:51:19.707702",
     "status": "completed"
    },
    "tags": []
   },
   "outputs": [],
   "source": [
    "# stop = set(stopwords.words('english'))\n",
    "# print(stop)\n",
    "\n",
    "# def remove_stopwords(text, is_lower_case=False):\n",
    "#     tokens = tokenizer.tokenize(text)\n",
    "#     tokens = [token.strip() for token in tokens]\n",
    "#     if is_lower_case:\n",
    "#         filtered_tokens = [token for token in tokens if token not in stopwords_list]\n",
    "#     else:\n",
    "#         filtered_tokens = [token for token in tokens if token.lower() not in stopwords_list]\n",
    "#     filtered_text = ' '.join(filtered_tokens)    \n",
    "#     return filtered_text\n",
    "\n",
    "# imdb_data['review'] = imdb_data['review'].apply(remove_stopwords)\n",
    "# imdb_data.head()"
   ]
  },
  {
   "cell_type": "code",
   "execution_count": 11,
   "id": "b8669b85",
   "metadata": {
    "execution": {
     "iopub.execute_input": "2025-02-02T05:51:19.727790Z",
     "iopub.status.busy": "2025-02-02T05:51:19.727460Z",
     "iopub.status.idle": "2025-02-02T05:51:19.731444Z",
     "shell.execute_reply": "2025-02-02T05:51:19.730372Z"
    },
    "papermill": {
     "duration": 0.010763,
     "end_time": "2025-02-02T05:51:19.733224",
     "exception": false,
     "start_time": "2025-02-02T05:51:19.722461",
     "status": "completed"
    },
    "tags": []
   },
   "outputs": [],
   "source": [
    "# pip install autocorrect"
   ]
  },
  {
   "cell_type": "code",
   "execution_count": 12,
   "id": "1b97604a",
   "metadata": {
    "execution": {
     "iopub.execute_input": "2025-02-02T05:51:19.742829Z",
     "iopub.status.busy": "2025-02-02T05:51:19.742459Z",
     "iopub.status.idle": "2025-02-02T05:51:19.746347Z",
     "shell.execute_reply": "2025-02-02T05:51:19.745425Z"
    },
    "papermill": {
     "duration": 0.010517,
     "end_time": "2025-02-02T05:51:19.747989",
     "exception": false,
     "start_time": "2025-02-02T05:51:19.737472",
     "status": "completed"
    },
    "tags": []
   },
   "outputs": [],
   "source": [
    "# from textblob import TextBlob\n",
    "# from autocorrect import Speller\n",
    "\n",
    "# norm_train_reviews=imdb_data.review[:1]\n",
    "# print(norm_train_reviews)\n",
    "# norm_train_string = norm_train_reviews.to_string()\n",
    "# norm_train_spelling = Speller().spell(norm_train_string)\n",
    "# # norm_train_spelling.correct()\n",
    "\n",
    "# norm_train_words = norm_train_spelling.words\n",
    "# norm_train_words\n",
    "# print(\"-------------------------\")\n",
    "# print(norm_train_spelling)\n",
    "# print(\"-------------------------\")\n",
    "# print(norm_train_words)"
   ]
  },
  {
   "cell_type": "code",
   "execution_count": null,
   "id": "f14d9982",
   "metadata": {
    "papermill": {
     "duration": 0.003957,
     "end_time": "2025-02-02T05:51:19.756144",
     "exception": false,
     "start_time": "2025-02-02T05:51:19.752187",
     "status": "completed"
    },
    "tags": []
   },
   "outputs": [],
   "source": []
  }
 ],
 "metadata": {
  "kaggle": {
   "accelerator": "none",
   "dataSources": [
    {
     "datasetId": 134715,
     "sourceId": 320111,
     "sourceType": "datasetVersion"
    }
   ],
   "dockerImageVersionId": 30839,
   "isGpuEnabled": false,
   "isInternetEnabled": false,
   "language": "python",
   "sourceType": "notebook"
  },
  "kernelspec": {
   "display_name": "Python 3",
   "language": "python",
   "name": "python3"
  },
  "language_info": {
   "codemirror_mode": {
    "name": "ipython",
    "version": 3
   },
   "file_extension": ".py",
   "mimetype": "text/x-python",
   "name": "python",
   "nbconvert_exporter": "python",
   "pygments_lexer": "ipython3",
   "version": "3.10.12"
  },
  "papermill": {
   "default_parameters": {},
   "duration": 9.576902,
   "end_time": "2025-02-02T05:51:20.684021",
   "environment_variables": {},
   "exception": null,
   "input_path": "__notebook__.ipynb",
   "output_path": "__notebook__.ipynb",
   "parameters": {},
   "start_time": "2025-02-02T05:51:11.107119",
   "version": "2.6.0"
  }
 },
 "nbformat": 4,
 "nbformat_minor": 5
}
