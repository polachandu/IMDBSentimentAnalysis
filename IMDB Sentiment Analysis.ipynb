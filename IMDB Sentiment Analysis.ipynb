{
 "cells": [
  {
   "cell_type": "code",
   "execution_count": 1,
   "id": "3eab82dc",
   "metadata": {
    "_cell_guid": "b1076dfc-b9ad-4769-8c92-a6c4dae69d19",
    "_uuid": "8f2839f25d086af736a60e9eeb907d3b93b6e0e5",
    "execution": {
     "iopub.execute_input": "2025-02-02T19:45:31.430586Z",
     "iopub.status.busy": "2025-02-02T19:45:31.430076Z",
     "iopub.status.idle": "2025-02-02T19:45:32.391468Z",
     "shell.execute_reply": "2025-02-02T19:45:32.390139Z"
    },
    "papermill": {
     "duration": 0.969007,
     "end_time": "2025-02-02T19:45:32.393648",
     "exception": false,
     "start_time": "2025-02-02T19:45:31.424641",
     "status": "completed"
    },
    "tags": []
   },
   "outputs": [
    {
     "name": "stdout",
     "output_type": "stream",
     "text": [
      "/kaggle/input/imdb-dataset-of-50k-movie-reviews/IMDB Dataset.csv\n"
     ]
    }
   ],
   "source": [
    "# This Python 3 environment comes with many helpful analytics libraries installed\n",
    "# It is defined by the kaggle/python Docker image: https://github.com/kaggle/docker-python\n",
    "# For example, here's several helpful packages to load\n",
    "\n",
    "import numpy as np # linear algebra\n",
    "import pandas as pd # data processing, CSV file I/O (e.g. pd.read_csv)\n",
    "import pdb\n",
    "# Input data files are available in the read-only \"../input/\" directory\n",
    "# For example, running this (by clicking run or pressing Shift+Enter) will list all files under the input directory\n",
    "\n",
    "import os\n",
    "for dirname, _, filenames in os.walk('/kaggle/input'):\n",
    "    for filename in filenames:\n",
    "        print(os.path.join(dirname, filename))\n",
    "\n",
    "# You can write up to 20GB to the current directory (/kaggle/working/) that gets preserved as output when you create a version using \"Save & Run All\" \n",
    "# You can also write temporary files to /kaggle/temp/, but they won't be saved outside of the current session"
   ]
  },
  {
   "cell_type": "code",
   "execution_count": 2,
   "id": "942ef52a",
   "metadata": {
    "execution": {
     "iopub.execute_input": "2025-02-02T19:45:32.402958Z",
     "iopub.status.busy": "2025-02-02T19:45:32.402330Z",
     "iopub.status.idle": "2025-02-02T19:45:34.308721Z",
     "shell.execute_reply": "2025-02-02T19:45:34.307293Z"
    },
    "papermill": {
     "duration": 1.913748,
     "end_time": "2025-02-02T19:45:34.311591",
     "exception": false,
     "start_time": "2025-02-02T19:45:32.397843",
     "status": "completed"
    },
    "tags": []
   },
   "outputs": [
    {
     "name": "stdout",
     "output_type": "stream",
     "text": [
      "shape ->  (50000, 2)\n"
     ]
    },
    {
     "data": {
      "text/html": [
       "<div>\n",
       "<style scoped>\n",
       "    .dataframe tbody tr th:only-of-type {\n",
       "        vertical-align: middle;\n",
       "    }\n",
       "\n",
       "    .dataframe tbody tr th {\n",
       "        vertical-align: top;\n",
       "    }\n",
       "\n",
       "    .dataframe thead th {\n",
       "        text-align: right;\n",
       "    }\n",
       "</style>\n",
       "<table border=\"1\" class=\"dataframe\">\n",
       "  <thead>\n",
       "    <tr style=\"text-align: right;\">\n",
       "      <th></th>\n",
       "      <th>review</th>\n",
       "      <th>sentiment</th>\n",
       "    </tr>\n",
       "  </thead>\n",
       "  <tbody>\n",
       "    <tr>\n",
       "      <th>0</th>\n",
       "      <td>One of the other reviewers has mentioned that ...</td>\n",
       "      <td>positive</td>\n",
       "    </tr>\n",
       "    <tr>\n",
       "      <th>1</th>\n",
       "      <td>A wonderful little production. &lt;br /&gt;&lt;br /&gt;The...</td>\n",
       "      <td>positive</td>\n",
       "    </tr>\n",
       "    <tr>\n",
       "      <th>2</th>\n",
       "      <td>I thought this was a wonderful way to spend ti...</td>\n",
       "      <td>positive</td>\n",
       "    </tr>\n",
       "    <tr>\n",
       "      <th>3</th>\n",
       "      <td>Basically there's a family where a little boy ...</td>\n",
       "      <td>negative</td>\n",
       "    </tr>\n",
       "    <tr>\n",
       "      <th>4</th>\n",
       "      <td>Petter Mattei's \"Love in the Time of Money\" is...</td>\n",
       "      <td>positive</td>\n",
       "    </tr>\n",
       "  </tbody>\n",
       "</table>\n",
       "</div>"
      ],
      "text/plain": [
       "                                              review sentiment\n",
       "0  One of the other reviewers has mentioned that ...  positive\n",
       "1  A wonderful little production. <br /><br />The...  positive\n",
       "2  I thought this was a wonderful way to spend ti...  positive\n",
       "3  Basically there's a family where a little boy ...  negative\n",
       "4  Petter Mattei's \"Love in the Time of Money\" is...  positive"
      ]
     },
     "execution_count": 2,
     "metadata": {},
     "output_type": "execute_result"
    }
   ],
   "source": [
    "imdb_data = pd.read_csv('/kaggle/input/imdb-dataset-of-50k-movie-reviews/IMDB Dataset.csv')\n",
    "print(\"shape -> \", imdb_data.shape)\n",
    "imdb_data.head()"
   ]
  },
  {
   "cell_type": "code",
   "execution_count": 3,
   "id": "a2a9cbdd",
   "metadata": {
    "execution": {
     "iopub.execute_input": "2025-02-02T19:45:34.327717Z",
     "iopub.status.busy": "2025-02-02T19:45:34.327162Z",
     "iopub.status.idle": "2025-02-02T19:45:34.482005Z",
     "shell.execute_reply": "2025-02-02T19:45:34.480839Z"
    },
    "papermill": {
     "duration": 0.165344,
     "end_time": "2025-02-02T19:45:34.483825",
     "exception": false,
     "start_time": "2025-02-02T19:45:34.318481",
     "status": "completed"
    },
    "tags": []
   },
   "outputs": [
    {
     "data": {
      "text/html": [
       "<div>\n",
       "<style scoped>\n",
       "    .dataframe tbody tr th:only-of-type {\n",
       "        vertical-align: middle;\n",
       "    }\n",
       "\n",
       "    .dataframe tbody tr th {\n",
       "        vertical-align: top;\n",
       "    }\n",
       "\n",
       "    .dataframe thead th {\n",
       "        text-align: right;\n",
       "    }\n",
       "</style>\n",
       "<table border=\"1\" class=\"dataframe\">\n",
       "  <thead>\n",
       "    <tr style=\"text-align: right;\">\n",
       "      <th></th>\n",
       "      <th>review</th>\n",
       "      <th>sentiment</th>\n",
       "    </tr>\n",
       "  </thead>\n",
       "  <tbody>\n",
       "    <tr>\n",
       "      <th>count</th>\n",
       "      <td>50000</td>\n",
       "      <td>50000</td>\n",
       "    </tr>\n",
       "    <tr>\n",
       "      <th>unique</th>\n",
       "      <td>49582</td>\n",
       "      <td>2</td>\n",
       "    </tr>\n",
       "    <tr>\n",
       "      <th>top</th>\n",
       "      <td>Loved today's show!!! It was a variety and not...</td>\n",
       "      <td>positive</td>\n",
       "    </tr>\n",
       "    <tr>\n",
       "      <th>freq</th>\n",
       "      <td>5</td>\n",
       "      <td>25000</td>\n",
       "    </tr>\n",
       "  </tbody>\n",
       "</table>\n",
       "</div>"
      ],
      "text/plain": [
       "                                                   review sentiment\n",
       "count                                               50000     50000\n",
       "unique                                              49582         2\n",
       "top     Loved today's show!!! It was a variety and not...  positive\n",
       "freq                                                    5     25000"
      ]
     },
     "execution_count": 3,
     "metadata": {},
     "output_type": "execute_result"
    }
   ],
   "source": [
    "imdb_data.describe()"
   ]
  },
  {
   "cell_type": "code",
   "execution_count": 4,
   "id": "d9fad20d",
   "metadata": {
    "execution": {
     "iopub.execute_input": "2025-02-02T19:45:34.493490Z",
     "iopub.status.busy": "2025-02-02T19:45:34.493028Z",
     "iopub.status.idle": "2025-02-02T19:45:34.504772Z",
     "shell.execute_reply": "2025-02-02T19:45:34.503495Z"
    },
    "papermill": {
     "duration": 0.019202,
     "end_time": "2025-02-02T19:45:34.506967",
     "exception": false,
     "start_time": "2025-02-02T19:45:34.487765",
     "status": "completed"
    },
    "tags": []
   },
   "outputs": [
    {
     "data": {
      "text/plain": [
       "sentiment\n",
       "positive    25000\n",
       "negative    25000\n",
       "Name: count, dtype: int64"
      ]
     },
     "execution_count": 4,
     "metadata": {},
     "output_type": "execute_result"
    }
   ],
   "source": [
    "imdb_data['sentiment'].value_counts()"
   ]
  },
  {
   "cell_type": "code",
   "execution_count": 5,
   "id": "7b449939",
   "metadata": {
    "execution": {
     "iopub.execute_input": "2025-02-02T19:45:34.516387Z",
     "iopub.status.busy": "2025-02-02T19:45:34.515944Z",
     "iopub.status.idle": "2025-02-02T19:45:34.524629Z",
     "shell.execute_reply": "2025-02-02T19:45:34.523293Z"
    },
    "papermill": {
     "duration": 0.015755,
     "end_time": "2025-02-02T19:45:34.526725",
     "exception": false,
     "start_time": "2025-02-02T19:45:34.510970",
     "status": "completed"
    },
    "tags": []
   },
   "outputs": [
    {
     "name": "stdout",
     "output_type": "stream",
     "text": [
      "(40000,) (10000,)\n",
      "(40000,) (10000,)\n"
     ]
    }
   ],
   "source": [
    "train_reviews = imdb_data.review[:40000]\n",
    "test_reviews = imdb_data.review[:40000]\n",
    "\n",
    "train_sentiments = imdb_data.sentiment[40000:]\n",
    "test_sentiments = imdb_data.sentiment[40000:]\n",
    "\n",
    "print(train_reviews.shape,train_sentiments.shape)\n",
    "print(test_reviews.shape,test_sentiments.shape)"
   ]
  },
  {
   "cell_type": "code",
   "execution_count": 6,
   "id": "76d4d8aa",
   "metadata": {
    "execution": {
     "iopub.execute_input": "2025-02-02T19:45:34.537009Z",
     "iopub.status.busy": "2025-02-02T19:45:34.536651Z",
     "iopub.status.idle": "2025-02-02T19:45:36.810891Z",
     "shell.execute_reply": "2025-02-02T19:45:36.809615Z"
    },
    "papermill": {
     "duration": 2.281753,
     "end_time": "2025-02-02T19:45:36.812991",
     "exception": false,
     "start_time": "2025-02-02T19:45:34.531238",
     "status": "completed"
    },
    "tags": []
   },
   "outputs": [
    {
     "data": {
      "text/html": [
       "<div>\n",
       "<style scoped>\n",
       "    .dataframe tbody tr th:only-of-type {\n",
       "        vertical-align: middle;\n",
       "    }\n",
       "\n",
       "    .dataframe tbody tr th {\n",
       "        vertical-align: top;\n",
       "    }\n",
       "\n",
       "    .dataframe thead th {\n",
       "        text-align: right;\n",
       "    }\n",
       "</style>\n",
       "<table border=\"1\" class=\"dataframe\">\n",
       "  <thead>\n",
       "    <tr style=\"text-align: right;\">\n",
       "      <th></th>\n",
       "      <th>review</th>\n",
       "      <th>sentiment</th>\n",
       "    </tr>\n",
       "  </thead>\n",
       "  <tbody>\n",
       "    <tr>\n",
       "      <th>0</th>\n",
       "      <td>One of the other reviewers has mentioned that ...</td>\n",
       "      <td>positive</td>\n",
       "    </tr>\n",
       "    <tr>\n",
       "      <th>1</th>\n",
       "      <td>A wonderful little production. &lt;br /&gt;&lt;br /&gt;The...</td>\n",
       "      <td>positive</td>\n",
       "    </tr>\n",
       "    <tr>\n",
       "      <th>2</th>\n",
       "      <td>I thought this was a wonderful way to spend ti...</td>\n",
       "      <td>positive</td>\n",
       "    </tr>\n",
       "    <tr>\n",
       "      <th>3</th>\n",
       "      <td>Basically there's a family where a little boy ...</td>\n",
       "      <td>negative</td>\n",
       "    </tr>\n",
       "    <tr>\n",
       "      <th>4</th>\n",
       "      <td>Petter Mattei's \"Love in the Time of Money\" is...</td>\n",
       "      <td>positive</td>\n",
       "    </tr>\n",
       "  </tbody>\n",
       "</table>\n",
       "</div>"
      ],
      "text/plain": [
       "                                              review sentiment\n",
       "0  One of the other reviewers has mentioned that ...  positive\n",
       "1  A wonderful little production. <br /><br />The...  positive\n",
       "2  I thought this was a wonderful way to spend ti...  positive\n",
       "3  Basically there's a family where a little boy ...  negative\n",
       "4  Petter Mattei's \"Love in the Time of Money\" is...  positive"
      ]
     },
     "execution_count": 6,
     "metadata": {},
     "output_type": "execute_result"
    }
   ],
   "source": [
    "import nltk\n",
    "from nltk.tokenize.toktok import ToktokTokenizer\n",
    "from nltk.corpus import stopwords\n",
    "\n",
    "tokenizer =  ToktokTokenizer()\n",
    "stopwords_list = nltk.corpus.stopwords.words('english')\n",
    "imdb_data.head()"
   ]
  },
  {
   "cell_type": "code",
   "execution_count": 7,
   "id": "2ad3bdad",
   "metadata": {
    "execution": {
     "iopub.execute_input": "2025-02-02T19:45:36.824947Z",
     "iopub.status.busy": "2025-02-02T19:45:36.824163Z",
     "iopub.status.idle": "2025-02-02T19:45:44.931087Z",
     "shell.execute_reply": "2025-02-02T19:45:44.929762Z"
    },
    "papermill": {
     "duration": 8.115046,
     "end_time": "2025-02-02T19:45:44.933022",
     "exception": false,
     "start_time": "2025-02-02T19:45:36.817976",
     "status": "completed"
    },
    "tags": []
   },
   "outputs": [
    {
     "name": "stderr",
     "output_type": "stream",
     "text": [
      "<ipython-input-7-64e17961242f>:5: MarkupResemblesLocatorWarning: The input looks more like a filename than markup. You may want to open this file and pass the filehandle into Beautiful Soup.\n",
      "  soup = BeautifulSoup(text, \"html.parser\")\n"
     ]
    },
    {
     "data": {
      "text/html": [
       "<div>\n",
       "<style scoped>\n",
       "    .dataframe tbody tr th:only-of-type {\n",
       "        vertical-align: middle;\n",
       "    }\n",
       "\n",
       "    .dataframe tbody tr th {\n",
       "        vertical-align: top;\n",
       "    }\n",
       "\n",
       "    .dataframe thead th {\n",
       "        text-align: right;\n",
       "    }\n",
       "</style>\n",
       "<table border=\"1\" class=\"dataframe\">\n",
       "  <thead>\n",
       "    <tr style=\"text-align: right;\">\n",
       "      <th></th>\n",
       "      <th>review</th>\n",
       "      <th>sentiment</th>\n",
       "    </tr>\n",
       "  </thead>\n",
       "  <tbody>\n",
       "    <tr>\n",
       "      <th>0</th>\n",
       "      <td>One of the other reviewers has mentioned that ...</td>\n",
       "      <td>positive</td>\n",
       "    </tr>\n",
       "    <tr>\n",
       "      <th>1</th>\n",
       "      <td>A wonderful little production. The filming tec...</td>\n",
       "      <td>positive</td>\n",
       "    </tr>\n",
       "    <tr>\n",
       "      <th>2</th>\n",
       "      <td>I thought this was a wonderful way to spend ti...</td>\n",
       "      <td>positive</td>\n",
       "    </tr>\n",
       "    <tr>\n",
       "      <th>3</th>\n",
       "      <td>Basically there's a family where a little boy ...</td>\n",
       "      <td>negative</td>\n",
       "    </tr>\n",
       "    <tr>\n",
       "      <th>4</th>\n",
       "      <td>Petter Mattei's \"Love in the Time of Money\" is...</td>\n",
       "      <td>positive</td>\n",
       "    </tr>\n",
       "  </tbody>\n",
       "</table>\n",
       "</div>"
      ],
      "text/plain": [
       "                                              review sentiment\n",
       "0  One of the other reviewers has mentioned that ...  positive\n",
       "1  A wonderful little production. The filming tec...  positive\n",
       "2  I thought this was a wonderful way to spend ti...  positive\n",
       "3  Basically there's a family where a little boy ...  negative\n",
       "4  Petter Mattei's \"Love in the Time of Money\" is...  positive"
      ]
     },
     "execution_count": 7,
     "metadata": {},
     "output_type": "execute_result"
    }
   ],
   "source": [
    "from bs4 import BeautifulSoup\n",
    "import re\n",
    "\n",
    "def strip_html(text):\n",
    "    soup = BeautifulSoup(text, \"html.parser\")\n",
    "    return soup.get_text()\n",
    "\n",
    "def remove_square_brackets(text):\n",
    "    return re.sub('\\[[^]]*\\]','',text)\n",
    "\n",
    "def denoise_text(text):\n",
    "    text = strip_html(text)\n",
    "    text = remove_square_brackets(text)\n",
    "    return text\n",
    "\n",
    "imdb_data['review'] = imdb_data['review'].apply(denoise_text)\n",
    "imdb_data.head()"
   ]
  },
  {
   "cell_type": "code",
   "execution_count": 8,
   "id": "9279cb3d",
   "metadata": {
    "execution": {
     "iopub.execute_input": "2025-02-02T19:45:44.944402Z",
     "iopub.status.busy": "2025-02-02T19:45:44.943746Z",
     "iopub.status.idle": "2025-02-02T19:45:46.237058Z",
     "shell.execute_reply": "2025-02-02T19:45:46.235707Z"
    },
    "papermill": {
     "duration": 1.301192,
     "end_time": "2025-02-02T19:45:46.239204",
     "exception": false,
     "start_time": "2025-02-02T19:45:44.938012",
     "status": "completed"
    },
    "tags": []
   },
   "outputs": [
    {
     "data": {
      "text/html": [
       "<div>\n",
       "<style scoped>\n",
       "    .dataframe tbody tr th:only-of-type {\n",
       "        vertical-align: middle;\n",
       "    }\n",
       "\n",
       "    .dataframe tbody tr th {\n",
       "        vertical-align: top;\n",
       "    }\n",
       "\n",
       "    .dataframe thead th {\n",
       "        text-align: right;\n",
       "    }\n",
       "</style>\n",
       "<table border=\"1\" class=\"dataframe\">\n",
       "  <thead>\n",
       "    <tr style=\"text-align: right;\">\n",
       "      <th></th>\n",
       "      <th>review</th>\n",
       "      <th>sentiment</th>\n",
       "    </tr>\n",
       "  </thead>\n",
       "  <tbody>\n",
       "    <tr>\n",
       "      <th>0</th>\n",
       "      <td>One of the other reviewers has mentioned that ...</td>\n",
       "      <td>positive</td>\n",
       "    </tr>\n",
       "    <tr>\n",
       "      <th>1</th>\n",
       "      <td>A wonderful little production The filming tech...</td>\n",
       "      <td>positive</td>\n",
       "    </tr>\n",
       "    <tr>\n",
       "      <th>2</th>\n",
       "      <td>I thought this was a wonderful way to spend ti...</td>\n",
       "      <td>positive</td>\n",
       "    </tr>\n",
       "    <tr>\n",
       "      <th>3</th>\n",
       "      <td>Basically theres a family where a little boy J...</td>\n",
       "      <td>negative</td>\n",
       "    </tr>\n",
       "    <tr>\n",
       "      <th>4</th>\n",
       "      <td>Petter Matteis Love in the Time of Money is a ...</td>\n",
       "      <td>positive</td>\n",
       "    </tr>\n",
       "  </tbody>\n",
       "</table>\n",
       "</div>"
      ],
      "text/plain": [
       "                                              review sentiment\n",
       "0  One of the other reviewers has mentioned that ...  positive\n",
       "1  A wonderful little production The filming tech...  positive\n",
       "2  I thought this was a wonderful way to spend ti...  positive\n",
       "3  Basically theres a family where a little boy J...  negative\n",
       "4  Petter Matteis Love in the Time of Money is a ...  positive"
      ]
     },
     "execution_count": 8,
     "metadata": {},
     "output_type": "execute_result"
    }
   ],
   "source": [
    "def remove_special_charachters(text, remove_digits = True):\n",
    "    pattern = r'[^a-zA-Z0-9\\s]'\n",
    "    text = re.sub(pattern,'',text)\n",
    "    return text\n",
    "\n",
    "imdb_data['review'] = imdb_data['review'].apply(remove_special_charachters)\n",
    "imdb_data.head()"
   ]
  },
  {
   "cell_type": "code",
   "execution_count": 9,
   "id": "183747d4",
   "metadata": {
    "execution": {
     "iopub.execute_input": "2025-02-02T19:45:46.251449Z",
     "iopub.status.busy": "2025-02-02T19:45:46.251091Z",
     "iopub.status.idle": "2025-02-02T19:48:51.940984Z",
     "shell.execute_reply": "2025-02-02T19:48:51.939901Z"
    },
    "papermill": {
     "duration": 185.702527,
     "end_time": "2025-02-02T19:48:51.947541",
     "exception": false,
     "start_time": "2025-02-02T19:45:46.245014",
     "status": "completed"
    },
    "tags": []
   },
   "outputs": [
    {
     "data": {
      "text/html": [
       "<div>\n",
       "<style scoped>\n",
       "    .dataframe tbody tr th:only-of-type {\n",
       "        vertical-align: middle;\n",
       "    }\n",
       "\n",
       "    .dataframe tbody tr th {\n",
       "        vertical-align: top;\n",
       "    }\n",
       "\n",
       "    .dataframe thead th {\n",
       "        text-align: right;\n",
       "    }\n",
       "</style>\n",
       "<table border=\"1\" class=\"dataframe\">\n",
       "  <thead>\n",
       "    <tr style=\"text-align: right;\">\n",
       "      <th></th>\n",
       "      <th>review</th>\n",
       "      <th>sentiment</th>\n",
       "    </tr>\n",
       "  </thead>\n",
       "  <tbody>\n",
       "    <tr>\n",
       "      <th>0</th>\n",
       "      <td>one of the other review ha mention that after ...</td>\n",
       "      <td>positive</td>\n",
       "    </tr>\n",
       "    <tr>\n",
       "      <th>1</th>\n",
       "      <td>A wonder littl product the film techniqu is ve...</td>\n",
       "      <td>positive</td>\n",
       "    </tr>\n",
       "    <tr>\n",
       "      <th>2</th>\n",
       "      <td>I thought thi wa a wonder way to spend time on...</td>\n",
       "      <td>positive</td>\n",
       "    </tr>\n",
       "    <tr>\n",
       "      <th>3</th>\n",
       "      <td>basic there a famili where a littl boy jake th...</td>\n",
       "      <td>negative</td>\n",
       "    </tr>\n",
       "    <tr>\n",
       "      <th>4</th>\n",
       "      <td>petter mattei love in the time of money is a v...</td>\n",
       "      <td>positive</td>\n",
       "    </tr>\n",
       "  </tbody>\n",
       "</table>\n",
       "</div>"
      ],
      "text/plain": [
       "                                              review sentiment\n",
       "0  one of the other review ha mention that after ...  positive\n",
       "1  A wonder littl product the film techniqu is ve...  positive\n",
       "2  I thought thi wa a wonder way to spend time on...  positive\n",
       "3  basic there a famili where a littl boy jake th...  negative\n",
       "4  petter mattei love in the time of money is a v...  positive"
      ]
     },
     "execution_count": 9,
     "metadata": {},
     "output_type": "execute_result"
    }
   ],
   "source": [
    "from nltk.stem.porter import PorterStemmer\n",
    "\n",
    "def simple_stemmer(text):\n",
    "    ps = PorterStemmer()\n",
    "    text = ' '.join([ps.stem(word) for word in text.split()])\n",
    "    return text\n",
    "\n",
    "imdb_data['review'] = imdb_data['review'].apply(simple_stemmer)\n",
    "imdb_data.head()"
   ]
  },
  {
   "cell_type": "code",
   "execution_count": 10,
   "id": "8bd138de",
   "metadata": {
    "execution": {
     "iopub.execute_input": "2025-02-02T19:48:51.959639Z",
     "iopub.status.busy": "2025-02-02T19:48:51.959220Z",
     "iopub.status.idle": "2025-02-02T19:49:30.054063Z",
     "shell.execute_reply": "2025-02-02T19:49:30.052549Z"
    },
    "papermill": {
     "duration": 38.106802,
     "end_time": "2025-02-02T19:49:30.059699",
     "exception": false,
     "start_time": "2025-02-02T19:48:51.952897",
     "status": "completed"
    },
    "tags": []
   },
   "outputs": [
    {
     "name": "stdout",
     "output_type": "stream",
     "text": [
      "{'so', 'ma', 'above', 'weren', 'of', 'further', 'what', 'during', 'out', 'd', \"hasn't\", \"you'll\", \"she's\", \"that'll\", 'other', 'against', 'are', 'in', 'themselves', 'now', 'ours', 'yours', 'these', 'll', 'there', 'off', \"aren't\", \"shouldn't\", 'with', 'o', 'do', 'y', 'needn', 'as', 'the', \"doesn't\", 'it', 'being', \"it's\", \"you'd\", 'doing', \"didn't\", 'her', 'a', 'about', 'shan', 'then', 'both', 'will', 'is', 'did', 'be', 'to', \"weren't\", 'those', \"wasn't\", 'or', 'and', 'down', 'until', 'just', 'herself', \"couldn't\", 'we', 'been', 'under', 'has', 'from', 'up', 've', 'itself', 'aren', 'how', 'that', 'for', \"isn't\", 'hers', 'they', 'because', 'not', 'she', 'mustn', 'his', 'once', 'does', 'have', 'i', 'shouldn', 'where', 'if', 'you', \"mightn't\", 'ain', 's', 'between', 'nor', 'm', 'hasn', \"mustn't\", 'my', 'he', \"you've\", 'mightn', \"wouldn't\", 'each', 'were', 'any', 't', \"you're\", 'had', \"should've\", 'too', 'isn', 'same', 'here', 'don', 'having', 'all', 'himself', 'again', 'very', 'theirs', 'before', 'yourselves', 'on', \"needn't\", 'such', \"hadn't\", 'this', 'can', 'me', 'their', \"shan't\", 'most', 're', 'into', 'through', 'our', 'them', 'by', 'when', 'couldn', \"won't\", 'only', 'am', 'after', 'while', 'won', 'who', 'over', 'should', 'own', 'more', 'no', 'doesn', 'wasn', 'its', 'didn', \"haven't\", 'whom', 'haven', 'was', 'some', 'hadn', 'ourselves', 'your', 'myself', 'below', 'few', 'than', \"don't\", 'which', 'an', 'why', 'but', 'him', 'wouldn', 'at', 'yourself'}\n"
     ]
    },
    {
     "data": {
      "text/html": [
       "<div>\n",
       "<style scoped>\n",
       "    .dataframe tbody tr th:only-of-type {\n",
       "        vertical-align: middle;\n",
       "    }\n",
       "\n",
       "    .dataframe tbody tr th {\n",
       "        vertical-align: top;\n",
       "    }\n",
       "\n",
       "    .dataframe thead th {\n",
       "        text-align: right;\n",
       "    }\n",
       "</style>\n",
       "<table border=\"1\" class=\"dataframe\">\n",
       "  <thead>\n",
       "    <tr style=\"text-align: right;\">\n",
       "      <th></th>\n",
       "      <th>review</th>\n",
       "      <th>sentiment</th>\n",
       "    </tr>\n",
       "  </thead>\n",
       "  <tbody>\n",
       "    <tr>\n",
       "      <th>0</th>\n",
       "      <td>one review ha mention watch 1 Oz episod youll ...</td>\n",
       "      <td>positive</td>\n",
       "    </tr>\n",
       "    <tr>\n",
       "      <th>1</th>\n",
       "      <td>wonder littl product film techniqu veri unassu...</td>\n",
       "      <td>positive</td>\n",
       "    </tr>\n",
       "    <tr>\n",
       "      <th>2</th>\n",
       "      <td>thought thi wa wonder way spend time hot summe...</td>\n",
       "      <td>positive</td>\n",
       "    </tr>\n",
       "    <tr>\n",
       "      <th>3</th>\n",
       "      <td>basic famili littl boy jake think zombi hi clo...</td>\n",
       "      <td>negative</td>\n",
       "    </tr>\n",
       "    <tr>\n",
       "      <th>4</th>\n",
       "      <td>petter mattei love time money visual stun film...</td>\n",
       "      <td>positive</td>\n",
       "    </tr>\n",
       "  </tbody>\n",
       "</table>\n",
       "</div>"
      ],
      "text/plain": [
       "                                              review sentiment\n",
       "0  one review ha mention watch 1 Oz episod youll ...  positive\n",
       "1  wonder littl product film techniqu veri unassu...  positive\n",
       "2  thought thi wa wonder way spend time hot summe...  positive\n",
       "3  basic famili littl boy jake think zombi hi clo...  negative\n",
       "4  petter mattei love time money visual stun film...  positive"
      ]
     },
     "execution_count": 10,
     "metadata": {},
     "output_type": "execute_result"
    }
   ],
   "source": [
    "stop = set(stopwords.words('english'))\n",
    "print(stop)\n",
    "\n",
    "def remove_stopwords(text, is_lower_case=False):\n",
    "    tokens = tokenizer.tokenize(text)\n",
    "    tokens = [token.strip() for token in tokens]\n",
    "    if is_lower_case:\n",
    "        filtered_tokens = [token for token in tokens if token not in stopwords_list]\n",
    "    else:\n",
    "        filtered_tokens = [token for token in tokens if token.lower() not in stopwords_list]\n",
    "    filtered_text = ' '.join(filtered_tokens)    \n",
    "    return filtered_text\n",
    "\n",
    "imdb_data['review'] = imdb_data['review'].apply(remove_stopwords)\n",
    "imdb_data.head()"
   ]
  },
  {
   "cell_type": "code",
   "execution_count": 11,
   "id": "21fa27dd",
   "metadata": {
    "execution": {
     "iopub.execute_input": "2025-02-02T19:49:30.071037Z",
     "iopub.status.busy": "2025-02-02T19:49:30.070675Z",
     "iopub.status.idle": "2025-02-02T19:49:30.075231Z",
     "shell.execute_reply": "2025-02-02T19:49:30.074013Z"
    },
    "papermill": {
     "duration": 0.012185,
     "end_time": "2025-02-02T19:49:30.076895",
     "exception": false,
     "start_time": "2025-02-02T19:49:30.064710",
     "status": "completed"
    },
    "tags": []
   },
   "outputs": [],
   "source": [
    "# pip install autocorrect"
   ]
  },
  {
   "cell_type": "code",
   "execution_count": 12,
   "id": "dcdcc0f1",
   "metadata": {
    "execution": {
     "iopub.execute_input": "2025-02-02T19:49:30.087771Z",
     "iopub.status.busy": "2025-02-02T19:49:30.087361Z",
     "iopub.status.idle": "2025-02-02T19:49:30.091903Z",
     "shell.execute_reply": "2025-02-02T19:49:30.090700Z"
    },
    "papermill": {
     "duration": 0.012218,
     "end_time": "2025-02-02T19:49:30.093876",
     "exception": false,
     "start_time": "2025-02-02T19:49:30.081658",
     "status": "completed"
    },
    "tags": []
   },
   "outputs": [],
   "source": [
    "# from textblob import TextBlob\n",
    "# from autocorrect import Speller\n",
    "\n",
    "# norm_train_reviews=imdb_data.review[:1]\n",
    "# print(norm_train_reviews)\n",
    "# norm_train_string = norm_train_reviews.to_string()\n",
    "# norm_train_spelling = Speller().spell(norm_train_string)\n",
    "# # norm_train_spelling.correct()\n",
    "\n",
    "# norm_train_words = norm_train_spelling.words\n",
    "# norm_train_words\n",
    "# print(\"-------------------------\")\n",
    "# print(norm_train_spelling)\n",
    "# print(\"-------------------------\")\n",
    "# print(norm_train_words)"
   ]
  },
  {
   "cell_type": "code",
   "execution_count": null,
   "id": "2cd552f2",
   "metadata": {
    "papermill": {
     "duration": 0.005193,
     "end_time": "2025-02-02T19:49:30.104575",
     "exception": false,
     "start_time": "2025-02-02T19:49:30.099382",
     "status": "completed"
    },
    "tags": []
   },
   "outputs": [],
   "source": []
  }
 ],
 "metadata": {
  "kaggle": {
   "accelerator": "none",
   "dataSources": [
    {
     "datasetId": 134715,
     "sourceId": 320111,
     "sourceType": "datasetVersion"
    }
   ],
   "dockerImageVersionId": 30839,
   "isGpuEnabled": false,
   "isInternetEnabled": false,
   "language": "python",
   "sourceType": "notebook"
  },
  "kernelspec": {
   "display_name": "Python 3",
   "language": "python",
   "name": "python3"
  },
  "language_info": {
   "codemirror_mode": {
    "name": "ipython",
    "version": 3
   },
   "file_extension": ".py",
   "mimetype": "text/x-python",
   "name": "python",
   "nbconvert_exporter": "python",
   "pygments_lexer": "ipython3",
   "version": "3.10.12"
  },
  "papermill": {
   "default_parameters": {},
   "duration": 243.171927,
   "end_time": "2025-02-02T19:49:31.134814",
   "environment_variables": {},
   "exception": null,
   "input_path": "__notebook__.ipynb",
   "output_path": "__notebook__.ipynb",
   "parameters": {},
   "start_time": "2025-02-02T19:45:27.962887",
   "version": "2.6.0"
  }
 },
 "nbformat": 4,
 "nbformat_minor": 5
}
