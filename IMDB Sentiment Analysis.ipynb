{
 "cells": [
  {
   "cell_type": "code",
   "execution_count": 1,
   "id": "df56d373",
   "metadata": {
    "_cell_guid": "b1076dfc-b9ad-4769-8c92-a6c4dae69d19",
    "_uuid": "8f2839f25d086af736a60e9eeb907d3b93b6e0e5",
    "execution": {
     "iopub.execute_input": "2025-02-02T05:50:16.750430Z",
     "iopub.status.busy": "2025-02-02T05:50:16.750042Z",
     "iopub.status.idle": "2025-02-02T05:50:17.638935Z",
     "shell.execute_reply": "2025-02-02T05:50:17.637815Z"
    },
    "papermill": {
     "duration": 0.897164,
     "end_time": "2025-02-02T05:50:17.640694",
     "exception": false,
     "start_time": "2025-02-02T05:50:16.743530",
     "status": "completed"
    },
    "tags": []
   },
   "outputs": [
    {
     "name": "stdout",
     "output_type": "stream",
     "text": [
      "/kaggle/input/imdb-dataset-of-50k-movie-reviews/IMDB Dataset.csv\n"
     ]
    }
   ],
   "source": [
    "# This Python 3 environment comes with many helpful analytics libraries installed\n",
    "# It is defined by the kaggle/python Docker image: https://github.com/kaggle/docker-python\n",
    "# For example, here's several helpful packages to load\n",
    "\n",
    "import numpy as np # linear algebra\n",
    "import pandas as pd # data processing, CSV file I/O (e.g. pd.read_csv)\n",
    "import pdb\n",
    "# Input data files are available in the read-only \"../input/\" directory\n",
    "# For example, running this (by clicking run or pressing Shift+Enter) will list all files under the input directory\n",
    "\n",
    "import os\n",
    "for dirname, _, filenames in os.walk('/kaggle/input'):\n",
    "    for filename in filenames:\n",
    "        print(os.path.join(dirname, filename))\n",
    "\n",
    "# You can write up to 20GB to the current directory (/kaggle/working/) that gets preserved as output when you create a version using \"Save & Run All\" \n",
    "# You can also write temporary files to /kaggle/temp/, but they won't be saved outside of the current session"
   ]
  },
  {
   "cell_type": "code",
   "execution_count": 2,
   "id": "492b6a20",
   "metadata": {
    "execution": {
     "iopub.execute_input": "2025-02-02T05:50:17.649707Z",
     "iopub.status.busy": "2025-02-02T05:50:17.649220Z",
     "iopub.status.idle": "2025-02-02T05:50:19.224799Z",
     "shell.execute_reply": "2025-02-02T05:50:19.223709Z"
    },
    "papermill": {
     "duration": 1.581514,
     "end_time": "2025-02-02T05:50:19.226466",
     "exception": false,
     "start_time": "2025-02-02T05:50:17.644952",
     "status": "completed"
    },
    "tags": []
   },
   "outputs": [
    {
     "name": "stdout",
     "output_type": "stream",
     "text": [
      "shape ->  (50000, 2)\n"
     ]
    },
    {
     "data": {
      "text/html": [
       "<div>\n",
       "<style scoped>\n",
       "    .dataframe tbody tr th:only-of-type {\n",
       "        vertical-align: middle;\n",
       "    }\n",
       "\n",
       "    .dataframe tbody tr th {\n",
       "        vertical-align: top;\n",
       "    }\n",
       "\n",
       "    .dataframe thead th {\n",
       "        text-align: right;\n",
       "    }\n",
       "</style>\n",
       "<table border=\"1\" class=\"dataframe\">\n",
       "  <thead>\n",
       "    <tr style=\"text-align: right;\">\n",
       "      <th></th>\n",
       "      <th>review</th>\n",
       "      <th>sentiment</th>\n",
       "    </tr>\n",
       "  </thead>\n",
       "  <tbody>\n",
       "    <tr>\n",
       "      <th>0</th>\n",
       "      <td>One of the other reviewers has mentioned that ...</td>\n",
       "      <td>positive</td>\n",
       "    </tr>\n",
       "    <tr>\n",
       "      <th>1</th>\n",
       "      <td>A wonderful little production. &lt;br /&gt;&lt;br /&gt;The...</td>\n",
       "      <td>positive</td>\n",
       "    </tr>\n",
       "    <tr>\n",
       "      <th>2</th>\n",
       "      <td>I thought this was a wonderful way to spend ti...</td>\n",
       "      <td>positive</td>\n",
       "    </tr>\n",
       "    <tr>\n",
       "      <th>3</th>\n",
       "      <td>Basically there's a family where a little boy ...</td>\n",
       "      <td>negative</td>\n",
       "    </tr>\n",
       "    <tr>\n",
       "      <th>4</th>\n",
       "      <td>Petter Mattei's \"Love in the Time of Money\" is...</td>\n",
       "      <td>positive</td>\n",
       "    </tr>\n",
       "  </tbody>\n",
       "</table>\n",
       "</div>"
      ],
      "text/plain": [
       "                                              review sentiment\n",
       "0  One of the other reviewers has mentioned that ...  positive\n",
       "1  A wonderful little production. <br /><br />The...  positive\n",
       "2  I thought this was a wonderful way to spend ti...  positive\n",
       "3  Basically there's a family where a little boy ...  negative\n",
       "4  Petter Mattei's \"Love in the Time of Money\" is...  positive"
      ]
     },
     "execution_count": 2,
     "metadata": {},
     "output_type": "execute_result"
    }
   ],
   "source": [
    "imdb_data = pd.read_csv('/kaggle/input/imdb-dataset-of-50k-movie-reviews/IMDB Dataset.csv')\n",
    "print(\"shape -> \", imdb_data.shape)\n",
    "imdb_data.head()"
   ]
  },
  {
   "cell_type": "code",
   "execution_count": 3,
   "id": "c2a95100",
   "metadata": {
    "execution": {
     "iopub.execute_input": "2025-02-02T05:50:19.235027Z",
     "iopub.status.busy": "2025-02-02T05:50:19.234644Z",
     "iopub.status.idle": "2025-02-02T05:50:19.346526Z",
     "shell.execute_reply": "2025-02-02T05:50:19.345466Z"
    },
    "papermill": {
     "duration": 0.117897,
     "end_time": "2025-02-02T05:50:19.348062",
     "exception": false,
     "start_time": "2025-02-02T05:50:19.230165",
     "status": "completed"
    },
    "tags": []
   },
   "outputs": [
    {
     "data": {
      "text/html": [
       "<div>\n",
       "<style scoped>\n",
       "    .dataframe tbody tr th:only-of-type {\n",
       "        vertical-align: middle;\n",
       "    }\n",
       "\n",
       "    .dataframe tbody tr th {\n",
       "        vertical-align: top;\n",
       "    }\n",
       "\n",
       "    .dataframe thead th {\n",
       "        text-align: right;\n",
       "    }\n",
       "</style>\n",
       "<table border=\"1\" class=\"dataframe\">\n",
       "  <thead>\n",
       "    <tr style=\"text-align: right;\">\n",
       "      <th></th>\n",
       "      <th>review</th>\n",
       "      <th>sentiment</th>\n",
       "    </tr>\n",
       "  </thead>\n",
       "  <tbody>\n",
       "    <tr>\n",
       "      <th>count</th>\n",
       "      <td>50000</td>\n",
       "      <td>50000</td>\n",
       "    </tr>\n",
       "    <tr>\n",
       "      <th>unique</th>\n",
       "      <td>49582</td>\n",
       "      <td>2</td>\n",
       "    </tr>\n",
       "    <tr>\n",
       "      <th>top</th>\n",
       "      <td>Loved today's show!!! It was a variety and not...</td>\n",
       "      <td>positive</td>\n",
       "    </tr>\n",
       "    <tr>\n",
       "      <th>freq</th>\n",
       "      <td>5</td>\n",
       "      <td>25000</td>\n",
       "    </tr>\n",
       "  </tbody>\n",
       "</table>\n",
       "</div>"
      ],
      "text/plain": [
       "                                                   review sentiment\n",
       "count                                               50000     50000\n",
       "unique                                              49582         2\n",
       "top     Loved today's show!!! It was a variety and not...  positive\n",
       "freq                                                    5     25000"
      ]
     },
     "execution_count": 3,
     "metadata": {},
     "output_type": "execute_result"
    }
   ],
   "source": [
    "imdb_data.describe()"
   ]
  },
  {
   "cell_type": "code",
   "execution_count": 4,
   "id": "baa3481c",
   "metadata": {
    "execution": {
     "iopub.execute_input": "2025-02-02T05:50:19.356592Z",
     "iopub.status.busy": "2025-02-02T05:50:19.356264Z",
     "iopub.status.idle": "2025-02-02T05:50:19.365962Z",
     "shell.execute_reply": "2025-02-02T05:50:19.364911Z"
    },
    "papermill": {
     "duration": 0.015684,
     "end_time": "2025-02-02T05:50:19.367520",
     "exception": false,
     "start_time": "2025-02-02T05:50:19.351836",
     "status": "completed"
    },
    "tags": []
   },
   "outputs": [
    {
     "data": {
      "text/plain": [
       "sentiment\n",
       "positive    25000\n",
       "negative    25000\n",
       "Name: count, dtype: int64"
      ]
     },
     "execution_count": 4,
     "metadata": {},
     "output_type": "execute_result"
    }
   ],
   "source": [
    "imdb_data['sentiment'].value_counts()"
   ]
  },
  {
   "cell_type": "code",
   "execution_count": 5,
   "id": "56557327",
   "metadata": {
    "execution": {
     "iopub.execute_input": "2025-02-02T05:50:19.376183Z",
     "iopub.status.busy": "2025-02-02T05:50:19.375845Z",
     "iopub.status.idle": "2025-02-02T05:50:19.381819Z",
     "shell.execute_reply": "2025-02-02T05:50:19.380658Z"
    },
    "papermill": {
     "duration": 0.012325,
     "end_time": "2025-02-02T05:50:19.383669",
     "exception": false,
     "start_time": "2025-02-02T05:50:19.371344",
     "status": "completed"
    },
    "tags": []
   },
   "outputs": [
    {
     "name": "stdout",
     "output_type": "stream",
     "text": [
      "(40000,) (10000,)\n",
      "(40000,) (10000,)\n"
     ]
    }
   ],
   "source": [
    "train_reviews = imdb_data.review[:40000]\n",
    "test_reviews = imdb_data.review[:40000]\n",
    "\n",
    "train_sentiments = imdb_data.sentiment[40000:]\n",
    "test_sentiments = imdb_data.sentiment[40000:]\n",
    "\n",
    "print(train_reviews.shape,train_sentiments.shape)\n",
    "print(test_reviews.shape,test_sentiments.shape)"
   ]
  },
  {
   "cell_type": "code",
   "execution_count": 6,
   "id": "a3bfe0c3",
   "metadata": {
    "execution": {
     "iopub.execute_input": "2025-02-02T05:50:19.392594Z",
     "iopub.status.busy": "2025-02-02T05:50:19.392283Z",
     "iopub.status.idle": "2025-02-02T05:50:19.395916Z",
     "shell.execute_reply": "2025-02-02T05:50:19.395008Z"
    },
    "papermill": {
     "duration": 0.009787,
     "end_time": "2025-02-02T05:50:19.397588",
     "exception": false,
     "start_time": "2025-02-02T05:50:19.387801",
     "status": "completed"
    },
    "tags": []
   },
   "outputs": [],
   "source": [
    "# import nltk\n",
    "# from nltk.tokenize.toktok import ToktokTokenizer\n",
    "# from nltk.corpus import stopwords\n",
    "\n",
    "# tokenizer =  ToktokTokenizer()\n",
    "# stopwords_list = nltk.corpus.stopwords.words('english')\n",
    "# imdb_data.head()"
   ]
  },
  {
   "cell_type": "code",
   "execution_count": 7,
   "id": "b6526fe9",
   "metadata": {
    "execution": {
     "iopub.execute_input": "2025-02-02T05:50:19.406648Z",
     "iopub.status.busy": "2025-02-02T05:50:19.406328Z",
     "iopub.status.idle": "2025-02-02T05:50:19.410213Z",
     "shell.execute_reply": "2025-02-02T05:50:19.409251Z"
    },
    "papermill": {
     "duration": 0.00992,
     "end_time": "2025-02-02T05:50:19.411658",
     "exception": false,
     "start_time": "2025-02-02T05:50:19.401738",
     "status": "completed"
    },
    "tags": []
   },
   "outputs": [],
   "source": [
    "# from bs4 import BeautifulSoup\n",
    "# import re\n",
    "\n",
    "# def strip_html(text):\n",
    "#     soup = BeautifulSoup(text, \"html.parser\")\n",
    "#     return soup.get_text()\n",
    "\n",
    "# def remove_square_brackets(text):\n",
    "#     return re.sub('\\[[^]]*\\]','',text)\n",
    "\n",
    "# def denoise_text(text):\n",
    "#     text = strip_html(text)\n",
    "#     text = remove_square_brackets(text)\n",
    "#     return text\n",
    "\n",
    "# imdb_data['review'] = imdb_data['review'].apply(denoise_text)\n",
    "# imdb_data.head()"
   ]
  },
  {
   "cell_type": "code",
   "execution_count": 8,
   "id": "35536104",
   "metadata": {
    "execution": {
     "iopub.execute_input": "2025-02-02T05:50:19.420811Z",
     "iopub.status.busy": "2025-02-02T05:50:19.420414Z",
     "iopub.status.idle": "2025-02-02T05:50:19.424231Z",
     "shell.execute_reply": "2025-02-02T05:50:19.423198Z"
    },
    "papermill": {
     "duration": 0.01017,
     "end_time": "2025-02-02T05:50:19.425875",
     "exception": false,
     "start_time": "2025-02-02T05:50:19.415705",
     "status": "completed"
    },
    "tags": []
   },
   "outputs": [],
   "source": [
    "# def remove_special_charachters(text, remove_digits = True):\n",
    "#     pattern = r'[^a-zA-Z0-9\\s]'\n",
    "#     text = re.sub(pattern,'',text)\n",
    "#     return text\n",
    "\n",
    "# imdb_data['review'] = imdb_data['review'].apply(remove_special_charachters)\n",
    "# imdb_data.head()"
   ]
  },
  {
   "cell_type": "code",
   "execution_count": 9,
   "id": "54a618e0",
   "metadata": {
    "execution": {
     "iopub.execute_input": "2025-02-02T05:50:19.434473Z",
     "iopub.status.busy": "2025-02-02T05:50:19.434192Z",
     "iopub.status.idle": "2025-02-02T05:50:19.437660Z",
     "shell.execute_reply": "2025-02-02T05:50:19.436723Z"
    },
    "papermill": {
     "duration": 0.00948,
     "end_time": "2025-02-02T05:50:19.439301",
     "exception": false,
     "start_time": "2025-02-02T05:50:19.429821",
     "status": "completed"
    },
    "tags": []
   },
   "outputs": [],
   "source": [
    "# from nltk.stem.porter import PorterStemmer\n",
    "\n",
    "# def simple_stemmer(text):\n",
    "#     ps = PorterStemmer()\n",
    "#     text = ' '.join([ps.stem(word) for word in text.split()])\n",
    "#     return text\n",
    "\n",
    "# imdb_data['review'] = imdb_data['review'].apply(simple_stemmer)\n",
    "# imdb_data.head()"
   ]
  },
  {
   "cell_type": "code",
   "execution_count": 10,
   "id": "70695054",
   "metadata": {
    "execution": {
     "iopub.execute_input": "2025-02-02T05:50:19.447688Z",
     "iopub.status.busy": "2025-02-02T05:50:19.447412Z",
     "iopub.status.idle": "2025-02-02T05:50:19.451034Z",
     "shell.execute_reply": "2025-02-02T05:50:19.450084Z"
    },
    "papermill": {
     "duration": 0.009546,
     "end_time": "2025-02-02T05:50:19.452595",
     "exception": false,
     "start_time": "2025-02-02T05:50:19.443049",
     "status": "completed"
    },
    "tags": []
   },
   "outputs": [],
   "source": [
    "# stop = set(stopwords.words('english'))\n",
    "# print(stop)\n",
    "\n",
    "# def remove_stopwords(text, is_lower_case=False):\n",
    "#     tokens = tokenizer.tokenize(text)\n",
    "#     tokens = [token.strip() for token in tokens]\n",
    "#     if is_lower_case:\n",
    "#         filtered_tokens = [token for token in tokens if token not in stopwords_list]\n",
    "#     else:\n",
    "#         filtered_tokens = [token for token in tokens if token.lower() not in stopwords_list]\n",
    "#     filtered_text = ' '.join(filtered_tokens)    \n",
    "#     return filtered_text\n",
    "\n",
    "# imdb_data['review'] = imdb_data['review'].apply(remove_stopwords)\n",
    "# imdb_data.head()"
   ]
  },
  {
   "cell_type": "code",
   "execution_count": 11,
   "id": "a9d1febb",
   "metadata": {
    "execution": {
     "iopub.execute_input": "2025-02-02T05:50:19.461278Z",
     "iopub.status.busy": "2025-02-02T05:50:19.460973Z",
     "iopub.status.idle": "2025-02-02T05:50:19.464465Z",
     "shell.execute_reply": "2025-02-02T05:50:19.463599Z"
    },
    "papermill": {
     "duration": 0.009699,
     "end_time": "2025-02-02T05:50:19.466136",
     "exception": false,
     "start_time": "2025-02-02T05:50:19.456437",
     "status": "completed"
    },
    "tags": []
   },
   "outputs": [],
   "source": [
    "# pip install autocorrect"
   ]
  },
  {
   "cell_type": "code",
   "execution_count": 12,
   "id": "065ebe35",
   "metadata": {
    "execution": {
     "iopub.execute_input": "2025-02-02T05:50:19.475087Z",
     "iopub.status.busy": "2025-02-02T05:50:19.474741Z",
     "iopub.status.idle": "2025-02-02T05:50:19.478605Z",
     "shell.execute_reply": "2025-02-02T05:50:19.477740Z"
    },
    "papermill": {
     "duration": 0.010116,
     "end_time": "2025-02-02T05:50:19.480173",
     "exception": false,
     "start_time": "2025-02-02T05:50:19.470057",
     "status": "completed"
    },
    "tags": []
   },
   "outputs": [],
   "source": [
    "# from textblob import TextBlob\n",
    "# from autocorrect import Speller\n",
    "\n",
    "# norm_train_reviews=imdb_data.review[:1]\n",
    "# print(norm_train_reviews)\n",
    "# norm_train_string = norm_train_reviews.to_string()\n",
    "# norm_train_spelling = Speller().spell(norm_train_string)\n",
    "# # norm_train_spelling.correct()\n",
    "\n",
    "# norm_train_words = norm_train_spelling.words\n",
    "# norm_train_words\n",
    "# print(\"-------------------------\")\n",
    "# print(norm_train_spelling)\n",
    "# print(\"-------------------------\")\n",
    "# print(norm_train_words)"
   ]
  },
  {
   "cell_type": "code",
   "execution_count": null,
   "id": "628fdffc",
   "metadata": {
    "papermill": {
     "duration": 0.003535,
     "end_time": "2025-02-02T05:50:19.487963",
     "exception": false,
     "start_time": "2025-02-02T05:50:19.484428",
     "status": "completed"
    },
    "tags": []
   },
   "outputs": [],
   "source": []
  }
 ],
 "metadata": {
  "kaggle": {
   "accelerator": "none",
   "dataSources": [
    {
     "datasetId": 134715,
     "sourceId": 320111,
     "sourceType": "datasetVersion"
    }
   ],
   "dockerImageVersionId": 30839,
   "isGpuEnabled": false,
   "isInternetEnabled": false,
   "language": "python",
   "sourceType": "notebook"
  },
  "kernelspec": {
   "display_name": "Python 3",
   "language": "python",
   "name": "python3"
  },
  "language_info": {
   "codemirror_mode": {
    "name": "ipython",
    "version": 3
   },
   "file_extension": ".py",
   "mimetype": "text/x-python",
   "name": "python",
   "nbconvert_exporter": "python",
   "pygments_lexer": "ipython3",
   "version": "3.10.12"
  },
  "papermill": {
   "default_parameters": {},
   "duration": 5.88781,
   "end_time": "2025-02-02T05:50:20.010633",
   "environment_variables": {},
   "exception": null,
   "input_path": "__notebook__.ipynb",
   "output_path": "__notebook__.ipynb",
   "parameters": {},
   "start_time": "2025-02-02T05:50:14.122823",
   "version": "2.6.0"
  }
 },
 "nbformat": 4,
 "nbformat_minor": 5
}
